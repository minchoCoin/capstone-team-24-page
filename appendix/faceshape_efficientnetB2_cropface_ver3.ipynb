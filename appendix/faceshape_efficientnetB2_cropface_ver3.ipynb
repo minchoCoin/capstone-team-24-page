{
  "cells": [
    {
      "cell_type": "code",
      "execution_count": 1,
      "metadata": {
        "colab": {
          "base_uri": "https://localhost:8080/",
          "height": 35
        },
        "id": "OK8SEj2eiYWm",
        "outputId": "d91374d1-d48d-4824-a582-77d69ae983fc"
      },
      "outputs": [
        {
          "output_type": "execute_result",
          "data": {
            "text/plain": [
              "'2.18.0'"
            ],
            "application/vnd.google.colaboratory.intrinsic+json": {
              "type": "string"
            }
          },
          "metadata": {},
          "execution_count": 1
        }
      ],
      "source": [
        "import tensorflow as tf\n",
        "tf.__version__"
      ]
    },
    {
      "cell_type": "code",
      "execution_count": 2,
      "metadata": {
        "id": "vW-8fvSwvMLM"
      },
      "outputs": [],
      "source": [
        "from PIL import ImageFile\n",
        "ImageFile.LOAD_TRUNCATED_IMAGES = True"
      ]
    },
    {
      "cell_type": "code",
      "source": [
        "import kagglehub\n",
        "\n",
        "# Download latest version\n",
        "path = kagglehub.dataset_download(\"niten19/face-shape-dataset\")\n",
        "\n",
        "print(\"Path to dataset files:\", path)"
      ],
      "metadata": {
        "colab": {
          "base_uri": "https://localhost:8080/"
        },
        "id": "zPHHEtjRg1Vs",
        "outputId": "306b2743-f529-4e6c-cc69-c3ba06aa113e"
      },
      "execution_count": 3,
      "outputs": [
        {
          "output_type": "stream",
          "name": "stdout",
          "text": [
            "Path to dataset files: /kaggle/input/face-shape-dataset\n"
          ]
        }
      ]
    },
    {
      "cell_type": "code",
      "execution_count": 4,
      "metadata": {
        "id": "0L5JUArzvGCo"
      },
      "outputs": [],
      "source": [
        "import tensorflow as tf\n",
        "from PIL import Image\n",
        "import numpy as np"
      ]
    },
    {
      "cell_type": "code",
      "execution_count": 5,
      "metadata": {
        "id": "KXBSrrdeDH9S"
      },
      "outputs": [],
      "source": [
        "target = ['Heart','Oblong','Oval','Round','Square']"
      ]
    },
    {
      "cell_type": "code",
      "source": [
        "import os"
      ],
      "metadata": {
        "id": "k9N8eIPKiqwH"
      },
      "execution_count": 6,
      "outputs": []
    },
    {
      "cell_type": "code",
      "execution_count": 7,
      "metadata": {
        "id": "vy5xazg180H5"
      },
      "outputs": [],
      "source": [
        "import random\n",
        "import cv2\n",
        "train_images = path+'/FaceShape Dataset/training_set'\n",
        "x_training = []\n",
        "y_training = []\n",
        "for (_,directories,_) in os.walk(train_images):\n",
        "  for directory in directories:\n",
        "    for(_,_,files) in os.walk(os.path.join(train_images,directory)):\n",
        "      for filename in files:\n",
        "        with open(os.path.join(train_images,directory,filename),'rb') as f:\n",
        "\n",
        "          faceimage = cv2.imread(os.path.join(train_images,directory,filename))\n",
        "          face_cascade =cv2.CascadeClassifier(cv2.data.haarcascades+'haarcascade_frontalface_default.xml')\n",
        "          try:\n",
        "            gray = cv2.cvtColor(faceimage,cv2.COLOR_BGR2GRAY)\n",
        "          except:\n",
        "            continue\n",
        "          faces = face_cascade.detectMultiScale(gray)\n",
        "          if len(faces)>0:\n",
        "            x,y,w,h = faces[0]\n",
        "          else:\n",
        "            continue\n",
        "\n",
        "          img = Image.open(f).convert('RGB').crop((x,y,x+w,y+h)).resize((260,260))\n",
        "          arr = np.array(img)\n",
        "          x_training.append(arr)\n",
        "          y_training.append(directory)\n",
        "\n",
        "          img_flip = img.transpose(method=Image.FLIP_LEFT_RIGHT)\n",
        "          img_rotate = img.rotate(random.randint(-20,20))\n",
        "\n",
        "          img_flip = np.array(img_flip)\n",
        "          img_rotate = np.array(img_rotate)\n",
        "\n",
        "          x_training.append(img_flip)\n",
        "          x_training.append(img_rotate)\n",
        "\n",
        "          y_training.append(directory)\n",
        "          y_training.append(directory)\n",
        "\n"
      ]
    },
    {
      "cell_type": "code",
      "execution_count": 8,
      "metadata": {
        "id": "Ha5tgvLDCI87"
      },
      "outputs": [],
      "source": [
        "test_images =path+'/FaceShape Dataset/testing_set'\n",
        "x_test = []\n",
        "y_test = []\n",
        "for (_,directories,_) in os.walk(test_images):\n",
        "  for directory in directories:\n",
        "    for(_,_,files) in os.walk(os.path.join(test_images,directory)):\n",
        "      for filename in files:\n",
        "        with open(os.path.join(test_images,directory,filename),'rb') as f:\n",
        "          faceimage = cv2.imread(os.path.join(test_images,directory,filename))\n",
        "          face_cascade = cv2.CascadeClassifier(cv2.data.haarcascades+'haarcascade_frontalface_default.xml')\n",
        "          try:\n",
        "            gray = cv2.cvtColor(faceimage,cv2.COLOR_BGR2GRAY)\n",
        "          except:\n",
        "            continue\n",
        "          faces = face_cascade.detectMultiScale(gray)\n",
        "          if len(faces)>0:\n",
        "            x,y,w,h = faces[0]\n",
        "          else:\n",
        "            continue\n",
        "\n",
        "          img = Image.open(f).convert('RGB').crop((x,y,x+w,y+h)).resize((260,260))\n",
        "          arr = np.array(img)\n",
        "          x_test.append(arr)\n",
        "          y_test.append(directory)"
      ]
    },
    {
      "cell_type": "code",
      "execution_count": 9,
      "metadata": {
        "id": "Fq5z_tbVrnn0"
      },
      "outputs": [],
      "source": [
        "x_training = np.array(x_training)\n",
        "y_training = np.array(y_training)\n"
      ]
    },
    {
      "cell_type": "code",
      "execution_count": 10,
      "metadata": {
        "id": "iPIWiYFXWkO9"
      },
      "outputs": [],
      "source": [
        "x_test = np.array(x_test)\n",
        "y_test = np.array(y_test)"
      ]
    },
    {
      "cell_type": "code",
      "execution_count": 11,
      "metadata": {
        "colab": {
          "base_uri": "https://localhost:8080/"
        },
        "id": "b8sQI8EILyh8",
        "outputId": "cf9f26a3-e193-4050-8de3-03f2321bd3dd"
      },
      "outputs": [
        {
          "output_type": "stream",
          "name": "stdout",
          "text": [
            "(11973, 260, 260, 3)\n",
            "(11973,)\n"
          ]
        }
      ],
      "source": [
        "print(x_training.shape)\n",
        "print(y_training.shape)"
      ]
    },
    {
      "cell_type": "code",
      "execution_count": 12,
      "metadata": {
        "colab": {
          "base_uri": "https://localhost:8080/"
        },
        "id": "D5vIRDR7L1tA",
        "outputId": "3b60a216-d0e4-4314-ed22-5283d3cacf86"
      },
      "outputs": [
        {
          "output_type": "stream",
          "name": "stdout",
          "text": [
            "(997, 260, 260, 3)\n",
            "(997,)\n"
          ]
        }
      ],
      "source": [
        "print(x_test.shape)\n",
        "print(y_test.shape)"
      ]
    },
    {
      "cell_type": "code",
      "source": [
        "mean = [0.485,0.456, 0.406]\n",
        "std = [0.229, 0.224, 0.225]"
      ],
      "metadata": {
        "id": "ngljv4lLg8oP"
      },
      "execution_count": 13,
      "outputs": []
    },
    {
      "cell_type": "code",
      "source": [
        "for i in range(3):\n",
        "  x_training[:,:,:,i] = (x_training[:,:,:,i]/255.0 - mean[i])/float(std[i])\n",
        "  x_test[:,:,:,i] = (x_test[:,:,:,i]/255.0 - mean[i])/float(std[i])"
      ],
      "metadata": {
        "id": "b4hT8CTbg9ns"
      },
      "execution_count": 14,
      "outputs": []
    },
    {
      "cell_type": "code",
      "execution_count": 15,
      "metadata": {
        "id": "YpvX-ysY1YW2"
      },
      "outputs": [],
      "source": [
        "from keras import layers"
      ]
    },
    {
      "cell_type": "code",
      "execution_count": 16,
      "metadata": {
        "id": "9xU45BRduiUa"
      },
      "outputs": [],
      "source": [
        "#target = ['Heart','Oblong','Oval','Round','Square']\n",
        "# 값 변환을 위한 dictionary\n",
        "mapping_dict = {'Heart': 0, 'Oblong': 1, 'Oval': 2, 'Round': 3,'Square':4}\n",
        "\n",
        "# 벡터화된 함수를 사용하여 배열의 값을 변경\n",
        "vectorized_map = np.vectorize(mapping_dict.get)\n",
        "y_training = vectorized_map(y_training)\n",
        "y_test = vectorized_map(y_test)\n"
      ]
    },
    {
      "cell_type": "code",
      "execution_count": 17,
      "metadata": {
        "id": "Iu08LkbtK6l_"
      },
      "outputs": [],
      "source": [
        "from sklearn.utils import shuffle\n",
        "x_training,y_training = shuffle(x_training,y_training)"
      ]
    },
    {
      "cell_type": "code",
      "execution_count": 18,
      "metadata": {
        "id": "iTurPm_hQrj_"
      },
      "outputs": [],
      "source": [
        "from tensorflow.keras.utils import to_categorical\n",
        "\n",
        "y_training = to_categorical(y_training)\n",
        "y_test = to_categorical(y_test)"
      ]
    },
    {
      "cell_type": "code",
      "source": [
        "epochs = 25"
      ],
      "metadata": {
        "id": "pjIBx7G2cV3P"
      },
      "execution_count": 19,
      "outputs": []
    },
    {
      "cell_type": "code",
      "execution_count": 20,
      "metadata": {
        "colab": {
          "base_uri": "https://localhost:8080/",
          "height": 309
        },
        "id": "SbEZcaQ41hAY",
        "outputId": "4d19c734-e4fe-45c3-c39a-0efb0a2df47b"
      },
      "outputs": [
        {
          "output_type": "stream",
          "name": "stdout",
          "text": [
            "Downloading data from https://storage.googleapis.com/keras-applications/efficientnetb2_notop.h5\n",
            "\u001b[1m31790344/31790344\u001b[0m \u001b[32m━━━━━━━━━━━━━━━━━━━━\u001b[0m\u001b[37m\u001b[0m \u001b[1m0s\u001b[0m 0us/step\n"
          ]
        },
        {
          "output_type": "display_data",
          "data": {
            "text/plain": [
              "\u001b[1mModel: \"functional\"\u001b[0m\n"
            ],
            "text/html": [
              "<pre style=\"white-space:pre;overflow-x:auto;line-height:normal;font-family:Menlo,'DejaVu Sans Mono',consolas,'Courier New',monospace\"><span style=\"font-weight: bold\">Model: \"functional\"</span>\n",
              "</pre>\n"
            ]
          },
          "metadata": {}
        },
        {
          "output_type": "display_data",
          "data": {
            "text/plain": [
              "┏━━━━━━━━━━━━━━━━━━━━━━━━━━━━━━━━━┳━━━━━━━━━━━━━━━━━━━━━━━━┳━━━━━━━━━━━━━━━┓\n",
              "┃\u001b[1m \u001b[0m\u001b[1mLayer (type)                   \u001b[0m\u001b[1m \u001b[0m┃\u001b[1m \u001b[0m\u001b[1mOutput Shape          \u001b[0m\u001b[1m \u001b[0m┃\u001b[1m \u001b[0m\u001b[1m      Param #\u001b[0m\u001b[1m \u001b[0m┃\n",
              "┡━━━━━━━━━━━━━━━━━━━━━━━━━━━━━━━━━╇━━━━━━━━━━━━━━━━━━━━━━━━╇━━━━━━━━━━━━━━━┩\n",
              "│ input_layer (\u001b[38;5;33mInputLayer\u001b[0m)        │ (\u001b[38;5;45mNone\u001b[0m, \u001b[38;5;34m260\u001b[0m, \u001b[38;5;34m260\u001b[0m, \u001b[38;5;34m3\u001b[0m)    │             \u001b[38;5;34m0\u001b[0m │\n",
              "├─────────────────────────────────┼────────────────────────┼───────────────┤\n",
              "│ efficientnetb2 (\u001b[38;5;33mFunctional\u001b[0m)     │ (\u001b[38;5;45mNone\u001b[0m, \u001b[38;5;34m1408\u001b[0m)           │     \u001b[38;5;34m7,768,569\u001b[0m │\n",
              "├─────────────────────────────────┼────────────────────────┼───────────────┤\n",
              "│ dropout (\u001b[38;5;33mDropout\u001b[0m)               │ (\u001b[38;5;45mNone\u001b[0m, \u001b[38;5;34m1408\u001b[0m)           │             \u001b[38;5;34m0\u001b[0m │\n",
              "├─────────────────────────────────┼────────────────────────┼───────────────┤\n",
              "│ dense (\u001b[38;5;33mDense\u001b[0m)                   │ (\u001b[38;5;45mNone\u001b[0m, \u001b[38;5;34m5\u001b[0m)              │         \u001b[38;5;34m7,045\u001b[0m │\n",
              "└─────────────────────────────────┴────────────────────────┴───────────────┘\n"
            ],
            "text/html": [
              "<pre style=\"white-space:pre;overflow-x:auto;line-height:normal;font-family:Menlo,'DejaVu Sans Mono',consolas,'Courier New',monospace\">┏━━━━━━━━━━━━━━━━━━━━━━━━━━━━━━━━━┳━━━━━━━━━━━━━━━━━━━━━━━━┳━━━━━━━━━━━━━━━┓\n",
              "┃<span style=\"font-weight: bold\"> Layer (type)                    </span>┃<span style=\"font-weight: bold\"> Output Shape           </span>┃<span style=\"font-weight: bold\">       Param # </span>┃\n",
              "┡━━━━━━━━━━━━━━━━━━━━━━━━━━━━━━━━━╇━━━━━━━━━━━━━━━━━━━━━━━━╇━━━━━━━━━━━━━━━┩\n",
              "│ input_layer (<span style=\"color: #0087ff; text-decoration-color: #0087ff\">InputLayer</span>)        │ (<span style=\"color: #00d7ff; text-decoration-color: #00d7ff\">None</span>, <span style=\"color: #00af00; text-decoration-color: #00af00\">260</span>, <span style=\"color: #00af00; text-decoration-color: #00af00\">260</span>, <span style=\"color: #00af00; text-decoration-color: #00af00\">3</span>)    │             <span style=\"color: #00af00; text-decoration-color: #00af00\">0</span> │\n",
              "├─────────────────────────────────┼────────────────────────┼───────────────┤\n",
              "│ efficientnetb2 (<span style=\"color: #0087ff; text-decoration-color: #0087ff\">Functional</span>)     │ (<span style=\"color: #00d7ff; text-decoration-color: #00d7ff\">None</span>, <span style=\"color: #00af00; text-decoration-color: #00af00\">1408</span>)           │     <span style=\"color: #00af00; text-decoration-color: #00af00\">7,768,569</span> │\n",
              "├─────────────────────────────────┼────────────────────────┼───────────────┤\n",
              "│ dropout (<span style=\"color: #0087ff; text-decoration-color: #0087ff\">Dropout</span>)               │ (<span style=\"color: #00d7ff; text-decoration-color: #00d7ff\">None</span>, <span style=\"color: #00af00; text-decoration-color: #00af00\">1408</span>)           │             <span style=\"color: #00af00; text-decoration-color: #00af00\">0</span> │\n",
              "├─────────────────────────────────┼────────────────────────┼───────────────┤\n",
              "│ dense (<span style=\"color: #0087ff; text-decoration-color: #0087ff\">Dense</span>)                   │ (<span style=\"color: #00d7ff; text-decoration-color: #00d7ff\">None</span>, <span style=\"color: #00af00; text-decoration-color: #00af00\">5</span>)              │         <span style=\"color: #00af00; text-decoration-color: #00af00\">7,045</span> │\n",
              "└─────────────────────────────────┴────────────────────────┴───────────────┘\n",
              "</pre>\n"
            ]
          },
          "metadata": {}
        },
        {
          "output_type": "display_data",
          "data": {
            "text/plain": [
              "\u001b[1m Total params: \u001b[0m\u001b[38;5;34m7,775,614\u001b[0m (29.66 MB)\n"
            ],
            "text/html": [
              "<pre style=\"white-space:pre;overflow-x:auto;line-height:normal;font-family:Menlo,'DejaVu Sans Mono',consolas,'Courier New',monospace\"><span style=\"font-weight: bold\"> Total params: </span><span style=\"color: #00af00; text-decoration-color: #00af00\">7,775,614</span> (29.66 MB)\n",
              "</pre>\n"
            ]
          },
          "metadata": {}
        },
        {
          "output_type": "display_data",
          "data": {
            "text/plain": [
              "\u001b[1m Trainable params: \u001b[0m\u001b[38;5;34m7,708,039\u001b[0m (29.40 MB)\n"
            ],
            "text/html": [
              "<pre style=\"white-space:pre;overflow-x:auto;line-height:normal;font-family:Menlo,'DejaVu Sans Mono',consolas,'Courier New',monospace\"><span style=\"font-weight: bold\"> Trainable params: </span><span style=\"color: #00af00; text-decoration-color: #00af00\">7,708,039</span> (29.40 MB)\n",
              "</pre>\n"
            ]
          },
          "metadata": {}
        },
        {
          "output_type": "display_data",
          "data": {
            "text/plain": [
              "\u001b[1m Non-trainable params: \u001b[0m\u001b[38;5;34m67,575\u001b[0m (263.97 KB)\n"
            ],
            "text/html": [
              "<pre style=\"white-space:pre;overflow-x:auto;line-height:normal;font-family:Menlo,'DejaVu Sans Mono',consolas,'Courier New',monospace\"><span style=\"font-weight: bold\"> Non-trainable params: </span><span style=\"color: #00af00; text-decoration-color: #00af00\">67,575</span> (263.97 KB)\n",
              "</pre>\n"
            ]
          },
          "metadata": {}
        }
      ],
      "source": [
        "from keras.layers import Flatten\n",
        "from keras.layers import Input\n",
        "from tensorflow.keras.applications import EfficientNetB2\n",
        "from keras.layers import Dense, Dropout, GlobalAveragePooling2D, Conv2D, Dropout\n",
        "from keras.layers import BatchNormalization\n",
        "from tensorflow.keras.optimizers import AdamW\n",
        "from tensorflow.keras.regularizers import l2\n",
        "IMG_SIZE = 260\n",
        "NUM_CLASSES = 5\n",
        "inputs = Input(shape=(IMG_SIZE, IMG_SIZE, 3))\n",
        "base_model = EfficientNetB2(include_top=False, weights='imagenet',pooling='avg', input_shape=(IMG_SIZE, IMG_SIZE, 3))(inputs)\n",
        "base_model.trainable=False\n",
        "\n",
        "x=base_model\n",
        "x=Dropout(0.3)(x)\n",
        "outputs=Dense(NUM_CLASSES,activation='softmax')(x)\n",
        "\n",
        "model = tf.keras.Model(inputs, outputs)\n",
        "base_model.trainable=False\n",
        "\n",
        "lr_schedule = tf.keras.optimizers.schedules.CosineDecay(\n",
        "    initial_learning_rate=1e-3,\n",
        "    decay_steps=epochs * len(y_training),\n",
        "    alpha=1e-5\n",
        ")\n",
        "\n",
        "model.compile(\n",
        "    optimizer=AdamW(learning_rate=lr_schedule, weight_decay=1e-4), loss=\"categorical_crossentropy\", metrics=[\"accuracy\"]\n",
        ")\n",
        "\n",
        "model.summary()"
      ]
    },
    {
      "cell_type": "code",
      "execution_count": 21,
      "metadata": {
        "id": "JdG6oYuL1y8V"
      },
      "outputs": [],
      "source": [
        "earlystopping=tf.keras.callbacks.EarlyStopping(\n",
        "    monitor='val_accuracy', patience=10,restore_best_weights=True\n",
        ")"
      ]
    },
    {
      "cell_type": "code",
      "execution_count": 22,
      "metadata": {
        "colab": {
          "base_uri": "https://localhost:8080/"
        },
        "id": "6KUErNns1kzx",
        "outputId": "7a0a8835-51fb-4a41-92cb-3dcd021d186b"
      },
      "outputs": [
        {
          "output_type": "stream",
          "name": "stdout",
          "text": [
            "Epoch 1/25\n",
            "\u001b[1m375/375\u001b[0m \u001b[32m━━━━━━━━━━━━━━━━━━━━\u001b[0m\u001b[37m\u001b[0m \u001b[1m254s\u001b[0m 282ms/step - accuracy: 0.4353 - loss: 1.3424 - val_accuracy: 0.5507 - val_loss: 1.1931\n",
            "Epoch 2/25\n",
            "\u001b[1m375/375\u001b[0m \u001b[32m━━━━━━━━━━━━━━━━━━━━\u001b[0m\u001b[37m\u001b[0m \u001b[1m23s\u001b[0m 62ms/step - accuracy: 0.6968 - loss: 0.7827 - val_accuracy: 0.5747 - val_loss: 1.1241\n",
            "Epoch 3/25\n",
            "\u001b[1m375/375\u001b[0m \u001b[32m━━━━━━━━━━━━━━━━━━━━\u001b[0m\u001b[37m\u001b[0m \u001b[1m23s\u001b[0m 62ms/step - accuracy: 0.8162 - loss: 0.4965 - val_accuracy: 0.6399 - val_loss: 1.1770\n",
            "Epoch 4/25\n",
            "\u001b[1m375/375\u001b[0m \u001b[32m━━━━━━━━━━━━━━━━━━━━\u001b[0m\u001b[37m\u001b[0m \u001b[1m23s\u001b[0m 62ms/step - accuracy: 0.8741 - loss: 0.3442 - val_accuracy: 0.6158 - val_loss: 1.5061\n",
            "Epoch 5/25\n",
            "\u001b[1m375/375\u001b[0m \u001b[32m━━━━━━━━━━━━━━━━━━━━\u001b[0m\u001b[37m\u001b[0m \u001b[1m23s\u001b[0m 63ms/step - accuracy: 0.8930 - loss: 0.2939 - val_accuracy: 0.6570 - val_loss: 1.3113\n",
            "Epoch 6/25\n",
            "\u001b[1m375/375\u001b[0m \u001b[32m━━━━━━━━━━━━━━━━━━━━\u001b[0m\u001b[37m\u001b[0m \u001b[1m23s\u001b[0m 62ms/step - accuracy: 0.9283 - loss: 0.2032 - val_accuracy: 0.6179 - val_loss: 1.5834\n",
            "Epoch 7/25\n",
            "\u001b[1m375/375\u001b[0m \u001b[32m━━━━━━━━━━━━━━━━━━━━\u001b[0m\u001b[37m\u001b[0m \u001b[1m23s\u001b[0m 61ms/step - accuracy: 0.9318 - loss: 0.1843 - val_accuracy: 0.6289 - val_loss: 1.6421\n",
            "Epoch 8/25\n",
            "\u001b[1m375/375\u001b[0m \u001b[32m━━━━━━━━━━━━━━━━━━━━\u001b[0m\u001b[37m\u001b[0m \u001b[1m23s\u001b[0m 61ms/step - accuracy: 0.9472 - loss: 0.1476 - val_accuracy: 0.6540 - val_loss: 1.7511\n",
            "Epoch 9/25\n",
            "\u001b[1m375/375\u001b[0m \u001b[32m━━━━━━━━━━━━━━━━━━━━\u001b[0m\u001b[37m\u001b[0m \u001b[1m23s\u001b[0m 62ms/step - accuracy: 0.9581 - loss: 0.1247 - val_accuracy: 0.6098 - val_loss: 1.6174\n",
            "Epoch 10/25\n",
            "\u001b[1m375/375\u001b[0m \u001b[32m━━━━━━━━━━━━━━━━━━━━\u001b[0m\u001b[37m\u001b[0m \u001b[1m23s\u001b[0m 62ms/step - accuracy: 0.9490 - loss: 0.1430 - val_accuracy: 0.5938 - val_loss: 2.0015\n",
            "Epoch 11/25\n",
            "\u001b[1m375/375\u001b[0m \u001b[32m━━━━━━━━━━━━━━━━━━━━\u001b[0m\u001b[37m\u001b[0m \u001b[1m23s\u001b[0m 62ms/step - accuracy: 0.9417 - loss: 0.1690 - val_accuracy: 0.6630 - val_loss: 1.6718\n",
            "Epoch 12/25\n",
            "\u001b[1m375/375\u001b[0m \u001b[32m━━━━━━━━━━━━━━━━━━━━\u001b[0m\u001b[37m\u001b[0m \u001b[1m23s\u001b[0m 61ms/step - accuracy: 0.9711 - loss: 0.0832 - val_accuracy: 0.6349 - val_loss: 1.7220\n",
            "Epoch 13/25\n",
            "\u001b[1m375/375\u001b[0m \u001b[32m━━━━━━━━━━━━━━━━━━━━\u001b[0m\u001b[37m\u001b[0m \u001b[1m23s\u001b[0m 62ms/step - accuracy: 0.9628 - loss: 0.1020 - val_accuracy: 0.5677 - val_loss: 2.2366\n",
            "Epoch 14/25\n",
            "\u001b[1m375/375\u001b[0m \u001b[32m━━━━━━━━━━━━━━━━━━━━\u001b[0m\u001b[37m\u001b[0m \u001b[1m23s\u001b[0m 62ms/step - accuracy: 0.9516 - loss: 0.1486 - val_accuracy: 0.6750 - val_loss: 1.5149\n",
            "Epoch 15/25\n",
            "\u001b[1m375/375\u001b[0m \u001b[32m━━━━━━━━━━━━━━━━━━━━\u001b[0m\u001b[37m\u001b[0m \u001b[1m23s\u001b[0m 61ms/step - accuracy: 0.9797 - loss: 0.0570 - val_accuracy: 0.6399 - val_loss: 1.9266\n",
            "Epoch 16/25\n",
            "\u001b[1m375/375\u001b[0m \u001b[32m━━━━━━━━━━━━━━━━━━━━\u001b[0m\u001b[37m\u001b[0m \u001b[1m23s\u001b[0m 62ms/step - accuracy: 0.9663 - loss: 0.1068 - val_accuracy: 0.6590 - val_loss: 1.5977\n",
            "Epoch 17/25\n",
            "\u001b[1m375/375\u001b[0m \u001b[32m━━━━━━━━━━━━━━━━━━━━\u001b[0m\u001b[37m\u001b[0m \u001b[1m23s\u001b[0m 61ms/step - accuracy: 0.9783 - loss: 0.0629 - val_accuracy: 0.5948 - val_loss: 1.9954\n",
            "Epoch 18/25\n",
            "\u001b[1m375/375\u001b[0m \u001b[32m━━━━━━━━━━━━━━━━━━━━\u001b[0m\u001b[37m\u001b[0m \u001b[1m23s\u001b[0m 61ms/step - accuracy: 0.9734 - loss: 0.0771 - val_accuracy: 0.6349 - val_loss: 2.0512\n",
            "Epoch 19/25\n",
            "\u001b[1m375/375\u001b[0m \u001b[32m━━━━━━━━━━━━━━━━━━━━\u001b[0m\u001b[37m\u001b[0m \u001b[1m23s\u001b[0m 62ms/step - accuracy: 0.9688 - loss: 0.0850 - val_accuracy: 0.6479 - val_loss: 1.9992\n",
            "Epoch 20/25\n",
            "\u001b[1m375/375\u001b[0m \u001b[32m━━━━━━━━━━━━━━━━━━━━\u001b[0m\u001b[37m\u001b[0m \u001b[1m23s\u001b[0m 61ms/step - accuracy: 0.9818 - loss: 0.0544 - val_accuracy: 0.6630 - val_loss: 1.7138\n",
            "Epoch 21/25\n",
            "\u001b[1m375/375\u001b[0m \u001b[32m━━━━━━━━━━━━━━━━━━━━\u001b[0m\u001b[37m\u001b[0m \u001b[1m23s\u001b[0m 61ms/step - accuracy: 0.9824 - loss: 0.0529 - val_accuracy: 0.5838 - val_loss: 2.5513\n",
            "Epoch 22/25\n",
            "\u001b[1m375/375\u001b[0m \u001b[32m━━━━━━━━━━━━━━━━━━━━\u001b[0m\u001b[37m\u001b[0m \u001b[1m23s\u001b[0m 62ms/step - accuracy: 0.9598 - loss: 0.1190 - val_accuracy: 0.6158 - val_loss: 1.9411\n",
            "Epoch 23/25\n",
            "\u001b[1m375/375\u001b[0m \u001b[32m━━━━━━━━━━━━━━━━━━━━\u001b[0m\u001b[37m\u001b[0m \u001b[1m23s\u001b[0m 62ms/step - accuracy: 0.9681 - loss: 0.0998 - val_accuracy: 0.6841 - val_loss: 1.6357\n",
            "Epoch 24/25\n",
            "\u001b[1m375/375\u001b[0m \u001b[32m━━━━━━━━━━━━━━━━━━━━\u001b[0m\u001b[37m\u001b[0m \u001b[1m23s\u001b[0m 62ms/step - accuracy: 0.9862 - loss: 0.0428 - val_accuracy: 0.6710 - val_loss: 2.0139\n",
            "Epoch 25/25\n",
            "\u001b[1m375/375\u001b[0m \u001b[32m━━━━━━━━━━━━━━━━━━━━\u001b[0m\u001b[37m\u001b[0m \u001b[1m23s\u001b[0m 62ms/step - accuracy: 0.9817 - loss: 0.0494 - val_accuracy: 0.6750 - val_loss: 1.9337\n"
          ]
        }
      ],
      "source": [
        "\n",
        "hist = model.fit(x=x_training,y=y_training, epochs=epochs, validation_data=(x_test,y_test), callbacks=[earlystopping])"
      ]
    },
    {
      "cell_type": "code",
      "execution_count": 23,
      "metadata": {
        "id": "Cg01-bir0cVE",
        "colab": {
          "base_uri": "https://localhost:8080/",
          "height": 307
        },
        "outputId": "e04c647b-73b1-439d-db72-68b00183b2f5"
      },
      "outputs": [
        {
          "output_type": "display_data",
          "data": {
            "text/plain": [
              "<Figure size 800x300 with 2 Axes>"
            ],
            "image/png": "[encoded data removed]"
          },
          "metadata": {}
        }
      ],
      "source": [
        "import matplotlib.pyplot as plt\n",
        "plt.figure(figsize=(8,3))\n",
        "\n",
        "# 훈련 손실 그래프\n",
        "plt.subplot(121)\n",
        "plt.plot(hist.history['loss'])\n",
        "plt.plot(hist.history['val_loss'])\n",
        "plt.title('Model Loss')\n",
        "plt.xlabel('Epoch')\n",
        "plt.ylabel('Loss')\n",
        "plt.legend(['train', 'val'], loc='upper right')\n",
        "\n",
        "# 훈련 정확도 그래프\n",
        "plt.subplot(122)\n",
        "plt.plot(hist.history['accuracy'])\n",
        "plt.plot(hist.history['val_accuracy'])\n",
        "plt.title('Model Accuracy')\n",
        "plt.xlabel('Epoch')\n",
        "plt.ylabel('Accuracy')\n",
        "plt.legend(['train', 'val'], loc='lower right')\n",
        "plt.tight_layout()\n",
        "plt.show()"
      ]
    },
    {
      "cell_type": "code",
      "execution_count": 24,
      "metadata": {
        "id": "QCvlz0TKNJqd"
      },
      "outputs": [],
      "source": [
        "base_model.trainable = True"
      ]
    },
    {
      "cell_type": "code",
      "source": [
        "epochs=30"
      ],
      "metadata": {
        "id": "P5ArqMOvdB0g"
      },
      "execution_count": 25,
      "outputs": []
    },
    {
      "cell_type": "code",
      "source": [
        "lr_schedule = tf.keras.optimizers.schedules.CosineDecay(\n",
        "    initial_learning_rate=1e-5,\n",
        "    decay_steps=epochs * len(y_training),\n",
        "    alpha=2e-7\n",
        ")"
      ],
      "metadata": {
        "id": "etlp5ncccpCd"
      },
      "execution_count": 26,
      "outputs": []
    },
    {
      "cell_type": "code",
      "execution_count": 27,
      "metadata": {
        "id": "VGEiesy556FW"
      },
      "outputs": [],
      "source": [
        "model.compile(optimizer=AdamW(learning_rate=lr_schedule, weight_decay = 5e-6),\n",
        "              loss='categorical_crossentropy',\n",
        "              metrics=['accuracy'])"
      ]
    },
    {
      "cell_type": "code",
      "execution_count": 28,
      "metadata": {
        "colab": {
          "base_uri": "https://localhost:8080/"
        },
        "id": "JO98D3VW57N9",
        "outputId": "4399da16-b5d5-454a-b650-c28f630f45e0"
      },
      "outputs": [
        {
          "output_type": "stream",
          "name": "stdout",
          "text": [
            "Epoch 1/30\n",
            "\u001b[1m375/375\u001b[0m \u001b[32m━━━━━━━━━━━━━━━━━━━━\u001b[0m\u001b[37m\u001b[0m \u001b[1m194s\u001b[0m 219ms/step - accuracy: 0.9839 - loss: 0.0485 - val_accuracy: 0.7312 - val_loss: 1.4610\n",
            "Epoch 2/30\n",
            "\u001b[1m375/375\u001b[0m \u001b[32m━━━━━━━━━━━━━━━━━━━━\u001b[0m\u001b[37m\u001b[0m \u001b[1m24s\u001b[0m 63ms/step - accuracy: 0.9912 - loss: 0.0279 - val_accuracy: 0.7352 - val_loss: 1.4427\n",
            "Epoch 3/30\n",
            "\u001b[1m375/375\u001b[0m \u001b[32m━━━━━━━━━━━━━━━━━━━━\u001b[0m\u001b[37m\u001b[0m \u001b[1m24s\u001b[0m 63ms/step - accuracy: 0.9933 - loss: 0.0214 - val_accuracy: 0.7352 - val_loss: 1.4384\n",
            "Epoch 4/30\n",
            "\u001b[1m375/375\u001b[0m \u001b[32m━━━━━━━━━━━━━━━━━━━━\u001b[0m\u001b[37m\u001b[0m \u001b[1m24s\u001b[0m 63ms/step - accuracy: 0.9955 - loss: 0.0141 - val_accuracy: 0.7382 - val_loss: 1.4243\n",
            "Epoch 5/30\n",
            "\u001b[1m375/375\u001b[0m \u001b[32m━━━━━━━━━━━━━━━━━━━━\u001b[0m\u001b[37m\u001b[0m \u001b[1m23s\u001b[0m 62ms/step - accuracy: 0.9951 - loss: 0.0153 - val_accuracy: 0.7372 - val_loss: 1.4269\n",
            "Epoch 6/30\n",
            "\u001b[1m375/375\u001b[0m \u001b[32m━━━━━━━━━━━━━━━━━━━━\u001b[0m\u001b[37m\u001b[0m \u001b[1m24s\u001b[0m 63ms/step - accuracy: 0.9967 - loss: 0.0128 - val_accuracy: 0.7402 - val_loss: 1.4265\n",
            "Epoch 7/30\n",
            "\u001b[1m375/375\u001b[0m \u001b[32m━━━━━━━━━━━━━━━━━━━━\u001b[0m\u001b[37m\u001b[0m \u001b[1m23s\u001b[0m 62ms/step - accuracy: 0.9975 - loss: 0.0097 - val_accuracy: 0.7392 - val_loss: 1.4314\n",
            "Epoch 8/30\n",
            "\u001b[1m375/375\u001b[0m \u001b[32m━━━━━━━━━━━━━━━━━━━━\u001b[0m\u001b[37m\u001b[0m \u001b[1m23s\u001b[0m 62ms/step - accuracy: 0.9969 - loss: 0.0118 - val_accuracy: 0.7372 - val_loss: 1.4304\n",
            "Epoch 9/30\n",
            "\u001b[1m375/375\u001b[0m \u001b[32m━━━━━━━━━━━━━━━━━━━━\u001b[0m\u001b[37m\u001b[0m \u001b[1m23s\u001b[0m 62ms/step - accuracy: 0.9969 - loss: 0.0100 - val_accuracy: 0.7392 - val_loss: 1.4290\n",
            "Epoch 10/30\n",
            "\u001b[1m375/375\u001b[0m \u001b[32m━━━━━━━━━━━━━━━━━━━━\u001b[0m\u001b[37m\u001b[0m \u001b[1m23s\u001b[0m 62ms/step - accuracy: 0.9969 - loss: 0.0119 - val_accuracy: 0.7402 - val_loss: 1.4290\n",
            "Epoch 11/30\n",
            "\u001b[1m375/375\u001b[0m \u001b[32m━━━━━━━━━━━━━━━━━━━━\u001b[0m\u001b[37m\u001b[0m \u001b[1m23s\u001b[0m 63ms/step - accuracy: 0.9984 - loss: 0.0071 - val_accuracy: 0.7412 - val_loss: 1.4385\n",
            "Epoch 12/30\n",
            "\u001b[1m375/375\u001b[0m \u001b[32m━━━━━━━━━━━━━━━━━━━━\u001b[0m\u001b[37m\u001b[0m \u001b[1m23s\u001b[0m 62ms/step - accuracy: 0.9987 - loss: 0.0067 - val_accuracy: 0.7402 - val_loss: 1.4376\n",
            "Epoch 13/30\n",
            "\u001b[1m375/375\u001b[0m \u001b[32m━━━━━━━━━━━━━━━━━━━━\u001b[0m\u001b[37m\u001b[0m \u001b[1m23s\u001b[0m 62ms/step - accuracy: 0.9979 - loss: 0.0083 - val_accuracy: 0.7392 - val_loss: 1.4520\n",
            "Epoch 14/30\n",
            "\u001b[1m375/375\u001b[0m \u001b[32m━━━━━━━━━━━━━━━━━━━━\u001b[0m\u001b[37m\u001b[0m \u001b[1m23s\u001b[0m 62ms/step - accuracy: 0.9986 - loss: 0.0060 - val_accuracy: 0.7422 - val_loss: 1.4402\n",
            "Epoch 15/30\n",
            "\u001b[1m375/375\u001b[0m \u001b[32m━━━━━━━━━━━━━━━━━━━━\u001b[0m\u001b[37m\u001b[0m \u001b[1m23s\u001b[0m 62ms/step - accuracy: 0.9990 - loss: 0.0050 - val_accuracy: 0.7412 - val_loss: 1.4508\n",
            "Epoch 16/30\n",
            "\u001b[1m375/375\u001b[0m \u001b[32m━━━━━━━━━━━━━━━━━━━━\u001b[0m\u001b[37m\u001b[0m \u001b[1m23s\u001b[0m 62ms/step - accuracy: 0.9991 - loss: 0.0057 - val_accuracy: 0.7372 - val_loss: 1.4547\n",
            "Epoch 17/30\n",
            "\u001b[1m375/375\u001b[0m \u001b[32m━━━━━━━━━━━━━━━━━━━━\u001b[0m\u001b[37m\u001b[0m \u001b[1m23s\u001b[0m 62ms/step - accuracy: 0.9983 - loss: 0.0061 - val_accuracy: 0.7412 - val_loss: 1.4629\n",
            "Epoch 18/30\n",
            "\u001b[1m375/375\u001b[0m \u001b[32m━━━━━━━━━━━━━━━━━━━━\u001b[0m\u001b[37m\u001b[0m \u001b[1m23s\u001b[0m 62ms/step - accuracy: 0.9990 - loss: 0.0058 - val_accuracy: 0.7422 - val_loss: 1.4603\n",
            "Epoch 19/30\n",
            "\u001b[1m375/375\u001b[0m \u001b[32m━━━━━━━━━━━━━━━━━━━━\u001b[0m\u001b[37m\u001b[0m \u001b[1m23s\u001b[0m 62ms/step - accuracy: 0.9990 - loss: 0.0044 - val_accuracy: 0.7442 - val_loss: 1.4643\n",
            "Epoch 20/30\n",
            "\u001b[1m375/375\u001b[0m \u001b[32m━━━━━━━━━━━━━━━━━━━━\u001b[0m\u001b[37m\u001b[0m \u001b[1m23s\u001b[0m 62ms/step - accuracy: 0.9991 - loss: 0.0047 - val_accuracy: 0.7432 - val_loss: 1.4695\n",
            "Epoch 21/30\n",
            "\u001b[1m375/375\u001b[0m \u001b[32m━━━━━━━━━━━━━━━━━━━━\u001b[0m\u001b[37m\u001b[0m \u001b[1m23s\u001b[0m 62ms/step - accuracy: 0.9991 - loss: 0.0042 - val_accuracy: 0.7442 - val_loss: 1.4889\n",
            "Epoch 22/30\n",
            "\u001b[1m375/375\u001b[0m \u001b[32m━━━━━━━━━━━━━━━━━━━━\u001b[0m\u001b[37m\u001b[0m \u001b[1m23s\u001b[0m 62ms/step - accuracy: 0.9993 - loss: 0.0035 - val_accuracy: 0.7442 - val_loss: 1.4946\n",
            "Epoch 23/30\n",
            "\u001b[1m375/375\u001b[0m \u001b[32m━━━━━━━━━━━━━━━━━━━━\u001b[0m\u001b[37m\u001b[0m \u001b[1m23s\u001b[0m 62ms/step - accuracy: 0.9985 - loss: 0.0058 - val_accuracy: 0.7432 - val_loss: 1.4940\n",
            "Epoch 24/30\n",
            "\u001b[1m375/375\u001b[0m \u001b[32m━━━━━━━━━━━━━━━━━━━━\u001b[0m\u001b[37m\u001b[0m \u001b[1m24s\u001b[0m 63ms/step - accuracy: 0.9990 - loss: 0.0040 - val_accuracy: 0.7472 - val_loss: 1.4956\n",
            "Epoch 25/30\n",
            "\u001b[1m375/375\u001b[0m \u001b[32m━━━━━━━━━━━━━━━━━━━━\u001b[0m\u001b[37m\u001b[0m \u001b[1m23s\u001b[0m 62ms/step - accuracy: 0.9993 - loss: 0.0033 - val_accuracy: 0.7462 - val_loss: 1.5065\n",
            "Epoch 26/30\n",
            "\u001b[1m375/375\u001b[0m \u001b[32m━━━━━━━━━━━━━━━━━━━━\u001b[0m\u001b[37m\u001b[0m \u001b[1m23s\u001b[0m 62ms/step - accuracy: 0.9996 - loss: 0.0027 - val_accuracy: 0.7462 - val_loss: 1.5047\n",
            "Epoch 27/30\n",
            "\u001b[1m375/375\u001b[0m \u001b[32m━━━━━━━━━━━━━━━━━━━━\u001b[0m\u001b[37m\u001b[0m \u001b[1m23s\u001b[0m 62ms/step - accuracy: 0.9992 - loss: 0.0036 - val_accuracy: 0.7513 - val_loss: 1.5089\n",
            "Epoch 28/30\n",
            "\u001b[1m375/375\u001b[0m \u001b[32m━━━━━━━━━━━━━━━━━━━━\u001b[0m\u001b[37m\u001b[0m \u001b[1m23s\u001b[0m 62ms/step - accuracy: 0.9990 - loss: 0.0040 - val_accuracy: 0.7472 - val_loss: 1.5056\n",
            "Epoch 29/30\n",
            "\u001b[1m375/375\u001b[0m \u001b[32m━━━━━━━━━━━━━━━━━━━━\u001b[0m\u001b[37m\u001b[0m \u001b[1m23s\u001b[0m 62ms/step - accuracy: 0.9995 - loss: 0.0028 - val_accuracy: 0.7472 - val_loss: 1.4989\n",
            "Epoch 30/30\n",
            "\u001b[1m375/375\u001b[0m \u001b[32m━━━━━━━━━━━━━━━━━━━━\u001b[0m\u001b[37m\u001b[0m \u001b[1m23s\u001b[0m 62ms/step - accuracy: 0.9993 - loss: 0.0029 - val_accuracy: 0.7513 - val_loss: 1.5023\n"
          ]
        }
      ],
      "source": [
        "hist=model.fit(x=x_training,y=y_training, epochs=30, validation_data=(x_test,y_test), callbacks=[earlystopping])"
      ]
    },
    {
      "cell_type": "code",
      "execution_count": 29,
      "metadata": {
        "colab": {
          "base_uri": "https://localhost:8080/",
          "height": 307
        },
        "id": "fnanHeKK-CHW",
        "outputId": "e6bae059-8bdb-4b2e-f0f8-c2379380a391"
      },
      "outputs": [
        {
          "output_type": "display_data",
          "data": {
            "text/plain": [
              "<Figure size 800x300 with 2 Axes>"
            ],
            "image/png": "[encoded data removed]"
          },
          "metadata": {}
        }
      ],
      "source": [
        "plt.figure(figsize=(8,3))\n",
        "\n",
        "# 훈련 손실 그래프\n",
        "plt.subplot(121)\n",
        "plt.plot(hist.history['loss'])\n",
        "plt.plot(hist.history['val_loss'])\n",
        "plt.title('Model Loss')\n",
        "plt.xlabel('Epoch')\n",
        "plt.ylabel('Loss')\n",
        "plt.legend(['train', 'val'], loc='upper right')\n",
        "\n",
        "# 훈련 정확도 그래프\n",
        "plt.subplot(122)\n",
        "plt.plot(hist.history['accuracy'])\n",
        "plt.plot(hist.history['val_accuracy'])\n",
        "plt.title('Model Accuracy')\n",
        "plt.xlabel('Epoch')\n",
        "plt.ylabel('Accuracy')\n",
        "plt.legend(['train', 'val'], loc='lower right')\n",
        "plt.tight_layout()\n",
        "plt.show()"
      ]
    },
    {
      "cell_type": "code",
      "execution_count": 30,
      "metadata": {
        "colab": {
          "base_uri": "https://localhost:8080/"
        },
        "id": "PtKWAE4fdMbr",
        "outputId": "e05af705-ef74-4d12-ed3b-f9257909197c"
      },
      "outputs": [
        {
          "output_type": "stream",
          "name": "stderr",
          "text": [
            "WARNING:absl:You are saving your model as an HDF5 file via `model.save()` or `keras.saving.save_model(model)`. This file format is considered legacy. We recommend using instead the native Keras format, e.g. `model.save('my_model.keras')` or `keras.saving.save_model(model, 'my_model.keras')`. \n"
          ]
        }
      ],
      "source": [
        "model.save('model.h5')"
      ]
    },
    {
      "cell_type": "markdown",
      "metadata": {
        "id": "jCKb6UP145C4"
      },
      "source": [
        "# ref\n",
        "- https://velog.io/@kyyle/Model-Optimization-1-%ED%9B%88%EB%A0%A8-%ED%9B%84-%EC%96%91%EC%9E%90%ED%99%94\n",
        "- https://dacon.io/competitions/official/236082/codeshare/8441"
      ]
    }
  ],
  "metadata": {
    "accelerator": "GPU",
    "colab": {
      "gpuType": "A100",
      "provenance": [],
      "machine_shape": "hm"
    },
    "kernelspec": {
      "display_name": "Python 3",
      "name": "python3"
    },
    "language_info": {
      "name": "python"
    }
  },
  "nbformat": 4,
  "nbformat_minor": 0
}