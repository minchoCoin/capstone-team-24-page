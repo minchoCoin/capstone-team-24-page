{
  "cells": [
    {
      "cell_type": "code",
      "source": [
        "from google.colab import drive\n",
        "drive.mount('/content/drive')"
      ],
      "metadata": {
        "colab": {
          "base_uri": "https://localhost:8080/"
        },
        "id": "EWGq4nk3Dlln",
        "outputId": "916a6b43-1987-474b-f2b3-a7b2efeb082b"
      },
      "id": "EWGq4nk3Dlln",
      "execution_count": 1,
      "outputs": [
        {
          "output_type": "stream",
          "name": "stdout",
          "text": [
            "Mounted at /content/drive\n"
          ]
        }
      ]
    },
    {
      "cell_type": "code",
      "execution_count": 2,
      "id": "70c57143",
      "metadata": {
        "_cell_guid": "b1076dfc-b9ad-4769-8c92-a6c4dae69d19",
        "_uuid": "8f2839f25d086af736a60e9eeb907d3b93b6e0e5",
        "execution": {
          "iopub.execute_input": "2025-07-02T02:22:53.282247Z",
          "iopub.status.busy": "2025-07-02T02:22:53.281979Z",
          "iopub.status.idle": "2025-07-02T02:23:09.055820Z",
          "shell.execute_reply": "2025-07-02T02:23:09.055243Z"
        },
        "papermill": {
          "duration": 15.77905,
          "end_time": "2025-07-02T02:23:09.057264",
          "exception": false,
          "start_time": "2025-07-02T02:22:53.278214",
          "status": "completed"
        },
        "tags": [],
        "id": "70c57143"
      },
      "outputs": [],
      "source": [
        "import numpy as np\n",
        "import matplotlib.pyplot as plt\n",
        "from PIL import Image\n",
        "import random\n",
        "import os\n",
        "from sklearn.metrics import accuracy_score\n",
        "\n",
        "import tensorflow as tf\n",
        "from tensorflow import keras\n",
        "from tensorflow.keras import layers\n",
        "from tensorflow.keras.applications import EfficientNetB2\n",
        "from tensorflow.keras.preprocessing.image import ImageDataGenerator\n",
        "from tensorflow.keras.callbacks import ReduceLROnPlateau, ModelCheckpoint\n",
        "from tensorflow.keras.applications.efficientnet import preprocess_input"
      ]
    },
    {
      "cell_type": "code",
      "execution_count": 3,
      "id": "90a16f2f",
      "metadata": {
        "execution": {
          "iopub.execute_input": "2025-07-02T02:23:09.062778Z",
          "iopub.status.busy": "2025-07-02T02:23:09.062360Z",
          "iopub.status.idle": "2025-07-02T02:23:09.065724Z",
          "shell.execute_reply": "2025-07-02T02:23:09.065240Z"
        },
        "papermill": {
          "duration": 0.007043,
          "end_time": "2025-07-02T02:23:09.066784",
          "exception": false,
          "start_time": "2025-07-02T02:23:09.059741",
          "status": "completed"
        },
        "tags": [],
        "id": "90a16f2f"
      },
      "outputs": [],
      "source": [
        "from PIL import ImageFile\n",
        "ImageFile.LOAD_TRUNCATED_IMAGES = True"
      ]
    },
    {
      "cell_type": "code",
      "execution_count": 4,
      "id": "4c292230",
      "metadata": {
        "execution": {
          "iopub.execute_input": "2025-07-02T02:23:09.071744Z",
          "iopub.status.busy": "2025-07-02T02:23:09.071361Z",
          "iopub.status.idle": "2025-07-02T02:23:09.075130Z",
          "shell.execute_reply": "2025-07-02T02:23:09.074620Z"
        },
        "papermill": {
          "duration": 0.007242,
          "end_time": "2025-07-02T02:23:09.076097",
          "exception": false,
          "start_time": "2025-07-02T02:23:09.068855",
          "status": "completed"
        },
        "tags": [],
        "id": "4c292230"
      },
      "outputs": [],
      "source": [
        "\n",
        "SEED = 42\n",
        "tf.random.set_seed(SEED)\n",
        "np.random.seed(SEED)\n",
        "import os\n",
        "\n",
        "os.environ['PYTHONHASHSEED'] = str(SEED)\n",
        "os.environ['TF_DETERMINISTIC_OPS'] = '1'"
      ]
    },
    {
      "cell_type": "code",
      "execution_count": 5,
      "id": "f639ce14",
      "metadata": {
        "execution": {
          "iopub.execute_input": "2025-07-02T02:23:09.081376Z",
          "iopub.status.busy": "2025-07-02T02:23:09.080677Z",
          "iopub.status.idle": "2025-07-02T02:23:09.084298Z",
          "shell.execute_reply": "2025-07-02T02:23:09.083589Z"
        },
        "papermill": {
          "duration": 0.007046,
          "end_time": "2025-07-02T02:23:09.085317",
          "exception": false,
          "start_time": "2025-07-02T02:23:09.078271",
          "status": "completed"
        },
        "tags": [],
        "id": "f639ce14"
      },
      "outputs": [],
      "source": [
        "\n",
        "BATCH_SIZE = 32\n",
        "IMG_SIZE = 288\n",
        "TRAIN_PATH = '/content/drive/MyDrive/FaceShape Dataset/training_set'\n",
        "TEST_PATH ='/content/drive/MyDrive/FaceShape Dataset/testing_set'\n"
      ]
    },
    {
      "cell_type": "code",
      "execution_count": 6,
      "id": "f43b5315",
      "metadata": {
        "execution": {
          "iopub.execute_input": "2025-07-02T02:23:09.090444Z",
          "iopub.status.busy": "2025-07-02T02:23:09.089814Z",
          "iopub.status.idle": "2025-07-02T02:23:09.093415Z",
          "shell.execute_reply": "2025-07-02T02:23:09.092863Z"
        },
        "papermill": {
          "duration": 0.007125,
          "end_time": "2025-07-02T02:23:09.094463",
          "exception": false,
          "start_time": "2025-07-02T02:23:09.087338",
          "status": "completed"
        },
        "tags": [],
        "id": "f43b5315"
      },
      "outputs": [],
      "source": [
        "train_datagen = ImageDataGenerator(\n",
        "    preprocessing_function=preprocess_input,\n",
        "    horizontal_flip=True,\n",
        "    rotation_range=10,\n",
        "    brightness_range=[0.8, 1.2],\n",
        "    width_shift_range=0.1,\n",
        "    height_shift_range=0.1,\n",
        "    zoom_range=0.1,\n",
        "    validation_split=0.0\n",
        ")\n",
        "test_datagen = ImageDataGenerator(preprocessing_function=preprocess_input)"
      ]
    },
    {
      "cell_type": "code",
      "execution_count": 7,
      "id": "87ae7ec3",
      "metadata": {
        "execution": {
          "iopub.execute_input": "2025-07-02T02:23:09.099283Z",
          "iopub.status.busy": "2025-07-02T02:23:09.099098Z",
          "iopub.status.idle": "2025-07-02T02:23:16.613248Z",
          "shell.execute_reply": "2025-07-02T02:23:16.612690Z"
        },
        "papermill": {
          "duration": 7.517982,
          "end_time": "2025-07-02T02:23:16.614450",
          "exception": false,
          "start_time": "2025-07-02T02:23:09.096468",
          "status": "completed"
        },
        "tags": [],
        "colab": {
          "base_uri": "https://localhost:8080/"
        },
        "id": "87ae7ec3",
        "outputId": "1a8a4075-f9ab-4260-ea31-813ae1211dad"
      },
      "outputs": [
        {
          "output_type": "stream",
          "name": "stdout",
          "text": [
            "Found 4007 images belonging to 5 classes.\n",
            "Found 1000 images belonging to 5 classes.\n"
          ]
        }
      ],
      "source": [
        "train_generator = train_datagen.flow_from_directory(\n",
        "    TRAIN_PATH,\n",
        "    target_size=(IMG_SIZE, IMG_SIZE),\n",
        "    batch_size=BATCH_SIZE,\n",
        "    class_mode='categorical',\n",
        "    shuffle=True\n",
        ")\n",
        "\n",
        "test_generator = test_datagen.flow_from_directory(\n",
        "    TEST_PATH,\n",
        "    target_size=(IMG_SIZE, IMG_SIZE),\n",
        "    batch_size=BATCH_SIZE,\n",
        "    class_mode='categorical',\n",
        "    shuffle=False\n",
        ")"
      ]
    },
    {
      "cell_type": "code",
      "execution_count": 8,
      "id": "cc4f223a",
      "metadata": {
        "execution": {
          "iopub.execute_input": "2025-07-02T02:23:16.624998Z",
          "iopub.status.busy": "2025-07-02T02:23:16.624702Z",
          "iopub.status.idle": "2025-07-02T02:23:16.630553Z",
          "shell.execute_reply": "2025-07-02T02:23:16.629599Z"
        },
        "papermill": {
          "duration": 0.012962,
          "end_time": "2025-07-02T02:23:16.631868",
          "exception": false,
          "start_time": "2025-07-02T02:23:16.618906",
          "status": "completed"
        },
        "tags": [],
        "colab": {
          "base_uri": "https://localhost:8080/"
        },
        "id": "cc4f223a",
        "outputId": "45b636e8-1b2d-4ec9-e9a2-38054b2dd0e1"
      },
      "outputs": [
        {
          "output_type": "stream",
          "name": "stdout",
          "text": [
            "Classes: {'Heart': 0, 'Oblong': 1, 'Oval': 2, 'Round': 3, 'Square': 4}\n",
            "Number of classes: 5\n"
          ]
        }
      ],
      "source": [
        "\n",
        "num_classes = train_generator.num_classes\n",
        "class_indices = train_generator.class_indices\n",
        "print(f\"Classes: {class_indices}\")\n",
        "print(f\"Number of classes: {num_classes}\")"
      ]
    },
    {
      "cell_type": "code",
      "execution_count": 9,
      "id": "a68dcbf3",
      "metadata": {
        "execution": {
          "iopub.execute_input": "2025-07-02T02:23:16.638742Z",
          "iopub.status.busy": "2025-07-02T02:23:16.638514Z",
          "iopub.status.idle": "2025-07-02T02:23:21.010449Z",
          "shell.execute_reply": "2025-07-02T02:23:21.009886Z"
        },
        "papermill": {
          "duration": 4.37691,
          "end_time": "2025-07-02T02:23:21.011660",
          "exception": false,
          "start_time": "2025-07-02T02:23:16.634750",
          "status": "completed"
        },
        "tags": [],
        "colab": {
          "base_uri": "https://localhost:8080/"
        },
        "id": "a68dcbf3",
        "outputId": "f99877fa-a392-4399-d7da-c61bfa2ceabc"
      },
      "outputs": [
        {
          "output_type": "stream",
          "name": "stdout",
          "text": [
            "Downloading data from https://storage.googleapis.com/keras-applications/efficientnetb2_notop.h5\n",
            "\u001b[1m31790344/31790344\u001b[0m \u001b[32m━━━━━━━━━━━━━━━━━━━━\u001b[0m\u001b[37m\u001b[0m \u001b[1m0s\u001b[0m 0us/step\n"
          ]
        }
      ],
      "source": [
        "\n",
        "\n",
        "def create_model(num_classes):\n",
        "    base_model = EfficientNetB2(\n",
        "        weights='imagenet',\n",
        "        include_top=False,\n",
        "        pooling='avg',\n",
        "        input_shape=(IMG_SIZE, IMG_SIZE, 3)\n",
        "    )\n",
        "\n",
        "\n",
        "    base_model.trainable = True\n",
        "\n",
        "\n",
        "    model = keras.Sequential([\n",
        "        base_model,\n",
        "        #layers.GlobalAveragePooling2D(),\n",
        "        layers.Dropout(0.2),\n",
        "        layers.Dense(num_classes, activation='softmax')\n",
        "    ])\n",
        "\n",
        "    return model\n",
        "\n",
        "model = create_model(num_classes)"
      ]
    },
    {
      "cell_type": "code",
      "execution_count": 10,
      "id": "bacc1a06",
      "metadata": {
        "execution": {
          "iopub.execute_input": "2025-07-02T02:23:21.018307Z",
          "iopub.status.busy": "2025-07-02T02:23:21.018070Z",
          "iopub.status.idle": "2025-07-02T02:23:21.047881Z",
          "shell.execute_reply": "2025-07-02T02:23:21.047097Z"
        },
        "papermill": {
          "duration": 0.034366,
          "end_time": "2025-07-02T02:23:21.049100",
          "exception": false,
          "start_time": "2025-07-02T02:23:21.014734",
          "status": "completed"
        },
        "tags": [],
        "colab": {
          "base_uri": "https://localhost:8080/",
          "height": 225
        },
        "id": "bacc1a06",
        "outputId": "c7ce4344-fc78-4bd4-b9f8-dafeeba13afd"
      },
      "outputs": [
        {
          "output_type": "display_data",
          "data": {
            "text/plain": [
              "\u001b[1mModel: \"sequential\"\u001b[0m\n"
            ],
            "text/html": [
              "<pre style=\"white-space:pre;overflow-x:auto;line-height:normal;font-family:Menlo,'DejaVu Sans Mono',consolas,'Courier New',monospace\"><span style=\"font-weight: bold\">Model: \"sequential\"</span>\n",
              "</pre>\n"
            ]
          },
          "metadata": {}
        },
        {
          "output_type": "display_data",
          "data": {
            "text/plain": [
              "┏━━━━━━━━━━━━━━━━━━━━━━━━━━━━━━━━━┳━━━━━━━━━━━━━━━━━━━━━━━━┳━━━━━━━━━━━━━━━┓\n",
              "┃\u001b[1m \u001b[0m\u001b[1mLayer (type)                   \u001b[0m\u001b[1m \u001b[0m┃\u001b[1m \u001b[0m\u001b[1mOutput Shape          \u001b[0m\u001b[1m \u001b[0m┃\u001b[1m \u001b[0m\u001b[1m      Param #\u001b[0m\u001b[1m \u001b[0m┃\n",
              "┡━━━━━━━━━━━━━━━━━━━━━━━━━━━━━━━━━╇━━━━━━━━━━━━━━━━━━━━━━━━╇━━━━━━━━━━━━━━━┩\n",
              "│ efficientnetb2 (\u001b[38;5;33mFunctional\u001b[0m)     │ (\u001b[38;5;45mNone\u001b[0m, \u001b[38;5;34m1408\u001b[0m)           │     \u001b[38;5;34m7,768,569\u001b[0m │\n",
              "├─────────────────────────────────┼────────────────────────┼───────────────┤\n",
              "│ dropout (\u001b[38;5;33mDropout\u001b[0m)               │ (\u001b[38;5;45mNone\u001b[0m, \u001b[38;5;34m1408\u001b[0m)           │             \u001b[38;5;34m0\u001b[0m │\n",
              "├─────────────────────────────────┼────────────────────────┼───────────────┤\n",
              "│ dense (\u001b[38;5;33mDense\u001b[0m)                   │ (\u001b[38;5;45mNone\u001b[0m, \u001b[38;5;34m5\u001b[0m)              │         \u001b[38;5;34m7,045\u001b[0m │\n",
              "└─────────────────────────────────┴────────────────────────┴───────────────┘\n"
            ],
            "text/html": [
              "<pre style=\"white-space:pre;overflow-x:auto;line-height:normal;font-family:Menlo,'DejaVu Sans Mono',consolas,'Courier New',monospace\">┏━━━━━━━━━━━━━━━━━━━━━━━━━━━━━━━━━┳━━━━━━━━━━━━━━━━━━━━━━━━┳━━━━━━━━━━━━━━━┓\n",
              "┃<span style=\"font-weight: bold\"> Layer (type)                    </span>┃<span style=\"font-weight: bold\"> Output Shape           </span>┃<span style=\"font-weight: bold\">       Param # </span>┃\n",
              "┡━━━━━━━━━━━━━━━━━━━━━━━━━━━━━━━━━╇━━━━━━━━━━━━━━━━━━━━━━━━╇━━━━━━━━━━━━━━━┩\n",
              "│ efficientnetb2 (<span style=\"color: #0087ff; text-decoration-color: #0087ff\">Functional</span>)     │ (<span style=\"color: #00d7ff; text-decoration-color: #00d7ff\">None</span>, <span style=\"color: #00af00; text-decoration-color: #00af00\">1408</span>)           │     <span style=\"color: #00af00; text-decoration-color: #00af00\">7,768,569</span> │\n",
              "├─────────────────────────────────┼────────────────────────┼───────────────┤\n",
              "│ dropout (<span style=\"color: #0087ff; text-decoration-color: #0087ff\">Dropout</span>)               │ (<span style=\"color: #00d7ff; text-decoration-color: #00d7ff\">None</span>, <span style=\"color: #00af00; text-decoration-color: #00af00\">1408</span>)           │             <span style=\"color: #00af00; text-decoration-color: #00af00\">0</span> │\n",
              "├─────────────────────────────────┼────────────────────────┼───────────────┤\n",
              "│ dense (<span style=\"color: #0087ff; text-decoration-color: #0087ff\">Dense</span>)                   │ (<span style=\"color: #00d7ff; text-decoration-color: #00d7ff\">None</span>, <span style=\"color: #00af00; text-decoration-color: #00af00\">5</span>)              │         <span style=\"color: #00af00; text-decoration-color: #00af00\">7,045</span> │\n",
              "└─────────────────────────────────┴────────────────────────┴───────────────┘\n",
              "</pre>\n"
            ]
          },
          "metadata": {}
        },
        {
          "output_type": "display_data",
          "data": {
            "text/plain": [
              "\u001b[1m Total params: \u001b[0m\u001b[38;5;34m7,775,614\u001b[0m (29.66 MB)\n"
            ],
            "text/html": [
              "<pre style=\"white-space:pre;overflow-x:auto;line-height:normal;font-family:Menlo,'DejaVu Sans Mono',consolas,'Courier New',monospace\"><span style=\"font-weight: bold\"> Total params: </span><span style=\"color: #00af00; text-decoration-color: #00af00\">7,775,614</span> (29.66 MB)\n",
              "</pre>\n"
            ]
          },
          "metadata": {}
        },
        {
          "output_type": "display_data",
          "data": {
            "text/plain": [
              "\u001b[1m Trainable params: \u001b[0m\u001b[38;5;34m7,708,039\u001b[0m (29.40 MB)\n"
            ],
            "text/html": [
              "<pre style=\"white-space:pre;overflow-x:auto;line-height:normal;font-family:Menlo,'DejaVu Sans Mono',consolas,'Courier New',monospace\"><span style=\"font-weight: bold\"> Trainable params: </span><span style=\"color: #00af00; text-decoration-color: #00af00\">7,708,039</span> (29.40 MB)\n",
              "</pre>\n"
            ]
          },
          "metadata": {}
        },
        {
          "output_type": "display_data",
          "data": {
            "text/plain": [
              "\u001b[1m Non-trainable params: \u001b[0m\u001b[38;5;34m67,575\u001b[0m (263.97 KB)\n"
            ],
            "text/html": [
              "<pre style=\"white-space:pre;overflow-x:auto;line-height:normal;font-family:Menlo,'DejaVu Sans Mono',consolas,'Courier New',monospace\"><span style=\"font-weight: bold\"> Non-trainable params: </span><span style=\"color: #00af00; text-decoration-color: #00af00\">67,575</span> (263.97 KB)\n",
              "</pre>\n"
            ]
          },
          "metadata": {}
        }
      ],
      "source": [
        "\n",
        "model.compile(\n",
        "    optimizer=keras.optimizers.AdamW(\n",
        "        learning_rate=5e-3,\n",
        "        beta_1=0.9,\n",
        "        beta_2=0.999,\n",
        "        weight_decay=0.01\n",
        "    ),\n",
        "    loss=tf.keras.losses.CategoricalCrossentropy(label_smoothing = 0.1),\n",
        "    metrics=['accuracy']\n",
        ")\n",
        "\n",
        "\n",
        "model.summary()"
      ]
    },
    {
      "cell_type": "code",
      "source": [
        "# Quantization\n",
        "def representative_data_gen():\n",
        "    sample_count = 0\n",
        "    max_samples = 100\n",
        "\n",
        "    for batch_images, _ in train_generator:\n",
        "        for image in batch_images:\n",
        "            if sample_count >= max_samples:\n",
        "                return\n",
        "\n",
        "            yield [np.expand_dims(image, axis=0).astype(np.float32)]\n",
        "            sample_count += 1\n",
        "        if sample_count >= max_samples:\n",
        "            break"
      ],
      "metadata": {
        "id": "3ZyaWe-z_Rxc"
      },
      "id": "3ZyaWe-z_Rxc",
      "execution_count": 11,
      "outputs": []
    },
    {
      "cell_type": "code",
      "source": [
        "def convert_to_tflite_int8(model, model_name=\"model_int8.tflite\"):\n",
        "\n",
        "    converter = tf.lite.TFLiteConverter.from_keras_model(model)\n",
        "\n",
        "\n",
        "    converter.optimizations = [tf.lite.Optimize.DEFAULT]\n",
        "    converter.representative_dataset = representative_data_gen\n",
        "    converter.target_spec.supported_ops = [tf.lite.OpsSet.TFLITE_BUILTINS_INT8]\n",
        "    converter.inference_input_type = tf.int8\n",
        "    converter.inference_output_type = tf.int8\n",
        "\n",
        "\n",
        "    quantized_tflite_model = converter.convert()\n",
        "\n",
        "\n",
        "    with open(model_name, 'wb') as f:\n",
        "        f.write(quantized_tflite_model)\n",
        "\n",
        "\n",
        "\n",
        "\n",
        "    original_size = os.path.getsize('best_model.h5') / (1024 * 1024)  # MB\n",
        "    quantized_size = os.path.getsize(model_name) / (1024 * 1024)  # MB\n",
        "\n",
        "    print(f\"model size: {original_size:.2f} MB\")\n",
        "    print(f\"quantized model size: {quantized_size:.2f} MB\")\n",
        "\n",
        "    return quantized_tflite_model\n",
        "model.load_weights('best_model.h5')\n",
        "quantized_model = convert_to_tflite_int8(model)"
      ],
      "metadata": {
        "colab": {
          "base_uri": "https://localhost:8080/"
        },
        "id": "jJbtD4qe_ibe",
        "outputId": "af5bbb6b-0247-4fd2-90d5-944c7a2cf052"
      },
      "id": "jJbtD4qe_ibe",
      "execution_count": 12,
      "outputs": [
        {
          "output_type": "stream",
          "name": "stdout",
          "text": [
            "Saved artifact at '/tmp/tmprscapmxf'. The following endpoints are available:\n",
            "\n",
            "* Endpoint 'serve'\n",
            "  args_0 (POSITIONAL_ONLY): TensorSpec(shape=(None, 288, 288, 3), dtype=tf.float32, name='keras_tensor_341')\n",
            "Output Type:\n",
            "  TensorSpec(shape=(None, 5), dtype=tf.float32, name=None)\n",
            "Captures:\n",
            "  134088181065552: TensorSpec(shape=(1, 1, 1, 3), dtype=tf.float32, name=None)\n",
            "  134088181066704: TensorSpec(shape=(1, 1, 1, 3), dtype=tf.float32, name=None)\n",
            "  134088186705872: TensorSpec(shape=(), dtype=tf.resource, name=None)\n",
            "  134088186705296: TensorSpec(shape=(), dtype=tf.resource, name=None)\n",
            "  134088186704144: TensorSpec(shape=(), dtype=tf.resource, name=None)\n",
            "  134088186706448: TensorSpec(shape=(), dtype=tf.resource, name=None)\n",
            "  134088186698000: TensorSpec(shape=(), dtype=tf.resource, name=None)\n",
            "  134088186706832: TensorSpec(shape=(), dtype=tf.resource, name=None)\n",
            "  134088184759312: TensorSpec(shape=(), dtype=tf.resource, name=None)\n",
            "  134088184758928: TensorSpec(shape=(), dtype=tf.resource, name=None)\n",
            "  134088186706064: TensorSpec(shape=(), dtype=tf.resource, name=None)\n",
            "  134088184758736: TensorSpec(shape=(), dtype=tf.resource, name=None)\n",
            "  134088184760464: TensorSpec(shape=(), dtype=tf.resource, name=None)\n",
            "  134088184762000: TensorSpec(shape=(), dtype=tf.resource, name=None)\n",
            "  134088184762192: TensorSpec(shape=(), dtype=tf.resource, name=None)\n",
            "  134088184762960: TensorSpec(shape=(), dtype=tf.resource, name=None)\n",
            "  134088184761040: TensorSpec(shape=(), dtype=tf.resource, name=None)\n",
            "  134088184763728: TensorSpec(shape=(), dtype=tf.resource, name=None)\n",
            "  134088184764496: TensorSpec(shape=(), dtype=tf.resource, name=None)\n",
            "  134088184763344: TensorSpec(shape=(), dtype=tf.resource, name=None)\n",
            "  134088184763152: TensorSpec(shape=(), dtype=tf.resource, name=None)\n",
            "  134088184765456: TensorSpec(shape=(), dtype=tf.resource, name=None)\n",
            "  134088184764688: TensorSpec(shape=(), dtype=tf.resource, name=None)\n",
            "  134088184762768: TensorSpec(shape=(), dtype=tf.resource, name=None)\n",
            "  134088184765072: TensorSpec(shape=(), dtype=tf.resource, name=None)\n",
            "  134088184766416: TensorSpec(shape=(), dtype=tf.resource, name=None)\n",
            "  134088184767568: TensorSpec(shape=(), dtype=tf.resource, name=None)\n",
            "  134088184767760: TensorSpec(shape=(), dtype=tf.resource, name=None)\n",
            "  134088184765648: TensorSpec(shape=(), dtype=tf.resource, name=None)\n",
            "  134088186699344: TensorSpec(shape=(), dtype=tf.resource, name=None)\n",
            "  134088184768720: TensorSpec(shape=(), dtype=tf.resource, name=None)\n",
            "  134088184768144: TensorSpec(shape=(), dtype=tf.resource, name=None)\n",
            "  134088184769296: TensorSpec(shape=(), dtype=tf.resource, name=None)\n",
            "  134088184768528: TensorSpec(shape=(), dtype=tf.resource, name=None)\n",
            "  134088184769680: TensorSpec(shape=(), dtype=tf.resource, name=None)\n",
            "  134088184770064: TensorSpec(shape=(), dtype=tf.resource, name=None)\n",
            "  134088184771408: TensorSpec(shape=(), dtype=tf.resource, name=None)\n",
            "  134088184772368: TensorSpec(shape=(), dtype=tf.resource, name=None)\n",
            "  134088184771600: TensorSpec(shape=(), dtype=tf.resource, name=None)\n",
            "  134088184768912: TensorSpec(shape=(), dtype=tf.resource, name=None)\n",
            "  134088184773328: TensorSpec(shape=(), dtype=tf.resource, name=None)\n",
            "  134088184772944: TensorSpec(shape=(), dtype=tf.resource, name=None)\n",
            "  134088184774480: TensorSpec(shape=(), dtype=tf.resource, name=None)\n",
            "  134088184773520: TensorSpec(shape=(), dtype=tf.resource, name=None)\n",
            "  134088184771216: TensorSpec(shape=(), dtype=tf.resource, name=None)\n",
            "  134088184773712: TensorSpec(shape=(), dtype=tf.resource, name=None)\n",
            "  134088184771024: TensorSpec(shape=(), dtype=tf.resource, name=None)\n",
            "  134088185151760: TensorSpec(shape=(), dtype=tf.resource, name=None)\n",
            "  134088185152720: TensorSpec(shape=(), dtype=tf.resource, name=None)\n",
            "  134088185151952: TensorSpec(shape=(), dtype=tf.resource, name=None)\n",
            "  134088185153872: TensorSpec(shape=(), dtype=tf.resource, name=None)\n",
            "  134088185154640: TensorSpec(shape=(), dtype=tf.resource, name=None)\n",
            "  134088185153488: TensorSpec(shape=(), dtype=tf.resource, name=None)\n",
            "  134088185153296: TensorSpec(shape=(), dtype=tf.resource, name=None)\n",
            "  134088185155600: TensorSpec(shape=(), dtype=tf.resource, name=None)\n",
            "  134088185155216: TensorSpec(shape=(), dtype=tf.resource, name=None)\n",
            "  134088185156560: TensorSpec(shape=(), dtype=tf.resource, name=None)\n",
            "  134088185155792: TensorSpec(shape=(), dtype=tf.resource, name=None)\n",
            "  134088185152528: TensorSpec(shape=(), dtype=tf.resource, name=None)\n",
            "  134088185157520: TensorSpec(shape=(), dtype=tf.resource, name=None)\n",
            "  134088185157136: TensorSpec(shape=(), dtype=tf.resource, name=None)\n",
            "  134088185158480: TensorSpec(shape=(), dtype=tf.resource, name=None)\n",
            "  134088185157712: TensorSpec(shape=(), dtype=tf.resource, name=None)\n",
            "  134088185153104: TensorSpec(shape=(), dtype=tf.resource, name=None)\n",
            "  134088185159440: TensorSpec(shape=(), dtype=tf.resource, name=None)\n",
            "  134088185159632: TensorSpec(shape=(), dtype=tf.resource, name=None)\n",
            "  134088185157904: TensorSpec(shape=(), dtype=tf.resource, name=None)\n",
            "  134088185160016: TensorSpec(shape=(), dtype=tf.resource, name=None)\n",
            "  134088185155984: TensorSpec(shape=(), dtype=tf.resource, name=None)\n",
            "  134088185161168: TensorSpec(shape=(), dtype=tf.resource, name=None)\n",
            "  134088185161936: TensorSpec(shape=(), dtype=tf.resource, name=None)\n",
            "  134088185160784: TensorSpec(shape=(), dtype=tf.resource, name=None)\n",
            "  134088185160592: TensorSpec(shape=(), dtype=tf.resource, name=None)\n",
            "  134088185161360: TensorSpec(shape=(), dtype=tf.resource, name=None)\n",
            "  134088185163280: TensorSpec(shape=(), dtype=tf.resource, name=None)\n",
            "  134088185164240: TensorSpec(shape=(), dtype=tf.resource, name=None)\n",
            "  134088185163472: TensorSpec(shape=(), dtype=tf.resource, name=None)\n",
            "  134088185162128: TensorSpec(shape=(), dtype=tf.resource, name=None)\n",
            "  134088185165200: TensorSpec(shape=(), dtype=tf.resource, name=None)\n",
            "  134088185164816: TensorSpec(shape=(), dtype=tf.resource, name=None)\n",
            "  134088185166160: TensorSpec(shape=(), dtype=tf.resource, name=None)\n",
            "  134088185165392: TensorSpec(shape=(), dtype=tf.resource, name=None)\n",
            "  134088185163088: TensorSpec(shape=(), dtype=tf.resource, name=None)\n",
            "  134088185167120: TensorSpec(shape=(), dtype=tf.resource, name=None)\n",
            "  134088185166352: TensorSpec(shape=(), dtype=tf.resource, name=None)\n",
            "  134088185166736: TensorSpec(shape=(), dtype=tf.resource, name=None)\n",
            "  134088185162512: TensorSpec(shape=(), dtype=tf.resource, name=None)\n",
            "  134088185163664: TensorSpec(shape=(), dtype=tf.resource, name=None)\n",
            "  134088183547088: TensorSpec(shape=(), dtype=tf.resource, name=None)\n",
            "  134088183546128: TensorSpec(shape=(), dtype=tf.resource, name=None)\n",
            "  134088183546896: TensorSpec(shape=(), dtype=tf.resource, name=None)\n",
            "  134088183545936: TensorSpec(shape=(), dtype=tf.resource, name=None)\n",
            "  134088183546704: TensorSpec(shape=(), dtype=tf.resource, name=None)\n",
            "  134088183552080: TensorSpec(shape=(), dtype=tf.resource, name=None)\n",
            "  134088183548816: TensorSpec(shape=(), dtype=tf.resource, name=None)\n",
            "  134088183550160: TensorSpec(shape=(), dtype=tf.resource, name=None)\n",
            "  134088183551312: TensorSpec(shape=(), dtype=tf.resource, name=None)\n",
            "  134088183552848: TensorSpec(shape=(), dtype=tf.resource, name=None)\n",
            "  134088183546320: TensorSpec(shape=(), dtype=tf.resource, name=None)\n",
            "  134088183550928: TensorSpec(shape=(), dtype=tf.resource, name=None)\n",
            "  134088183549584: TensorSpec(shape=(), dtype=tf.resource, name=None)\n",
            "  134088183549776: TensorSpec(shape=(), dtype=tf.resource, name=None)\n",
            "  134088183550736: TensorSpec(shape=(), dtype=tf.resource, name=None)\n",
            "  134088183553040: TensorSpec(shape=(), dtype=tf.resource, name=None)\n",
            "  134088183547856: TensorSpec(shape=(), dtype=tf.resource, name=None)\n",
            "  134088183553424: TensorSpec(shape=(), dtype=tf.resource, name=None)\n",
            "  134088183549200: TensorSpec(shape=(), dtype=tf.resource, name=None)\n",
            "  134088183554576: TensorSpec(shape=(), dtype=tf.resource, name=None)\n",
            "  134088183555344: TensorSpec(shape=(), dtype=tf.resource, name=None)\n",
            "  134088183554192: TensorSpec(shape=(), dtype=tf.resource, name=None)\n",
            "  134088183554000: TensorSpec(shape=(), dtype=tf.resource, name=None)\n",
            "  134088183556304: TensorSpec(shape=(), dtype=tf.resource, name=None)\n",
            "  134088183555920: TensorSpec(shape=(), dtype=tf.resource, name=None)\n",
            "  134088183557264: TensorSpec(shape=(), dtype=tf.resource, name=None)\n",
            "  134088183556496: TensorSpec(shape=(), dtype=tf.resource, name=None)\n",
            "  134088183553232: TensorSpec(shape=(), dtype=tf.resource, name=None)\n",
            "  134088183558224: TensorSpec(shape=(), dtype=tf.resource, name=None)\n",
            "  134088183557840: TensorSpec(shape=(), dtype=tf.resource, name=None)\n",
            "  134088183559184: TensorSpec(shape=(), dtype=tf.resource, name=None)\n",
            "  134088183558416: TensorSpec(shape=(), dtype=tf.resource, name=None)\n",
            "  134088183549008: TensorSpec(shape=(), dtype=tf.resource, name=None)\n",
            "  134088183560144: TensorSpec(shape=(), dtype=tf.resource, name=None)\n",
            "  134088183560336: TensorSpec(shape=(), dtype=tf.resource, name=None)\n",
            "  134088183558608: TensorSpec(shape=(), dtype=tf.resource, name=None)\n",
            "  134088183560720: TensorSpec(shape=(), dtype=tf.resource, name=None)\n",
            "  134088183556688: TensorSpec(shape=(), dtype=tf.resource, name=None)\n",
            "  134088183561488: TensorSpec(shape=(), dtype=tf.resource, name=None)\n",
            "  134088183561872: TensorSpec(shape=(), dtype=tf.resource, name=None)\n",
            "  134088183561104: TensorSpec(shape=(), dtype=tf.resource, name=None)\n",
            "  134088183560528: TensorSpec(shape=(), dtype=tf.resource, name=None)\n",
            "  134088183972880: TensorSpec(shape=(), dtype=tf.resource, name=None)\n",
            "  134088183973648: TensorSpec(shape=(), dtype=tf.resource, name=None)\n",
            "  134088183974608: TensorSpec(shape=(), dtype=tf.resource, name=None)\n",
            "  134088183973840: TensorSpec(shape=(), dtype=tf.resource, name=None)\n",
            "  134088183972112: TensorSpec(shape=(), dtype=tf.resource, name=None)\n",
            "  134088183975568: TensorSpec(shape=(), dtype=tf.resource, name=None)\n",
            "  134088183975184: TensorSpec(shape=(), dtype=tf.resource, name=None)\n",
            "  134088183976528: TensorSpec(shape=(), dtype=tf.resource, name=None)\n",
            "  134088183975760: TensorSpec(shape=(), dtype=tf.resource, name=None)\n",
            "  134088183973456: TensorSpec(shape=(), dtype=tf.resource, name=None)\n",
            "  134088183977488: TensorSpec(shape=(), dtype=tf.resource, name=None)\n",
            "  134088183977680: TensorSpec(shape=(), dtype=tf.resource, name=None)\n",
            "  134088183975952: TensorSpec(shape=(), dtype=tf.resource, name=None)\n",
            "  134088183978064: TensorSpec(shape=(), dtype=tf.resource, name=None)\n",
            "  134088183974032: TensorSpec(shape=(), dtype=tf.resource, name=None)\n",
            "  134088183979216: TensorSpec(shape=(), dtype=tf.resource, name=None)\n",
            "  134088183979984: TensorSpec(shape=(), dtype=tf.resource, name=None)\n",
            "  134088183978832: TensorSpec(shape=(), dtype=tf.resource, name=None)\n",
            "  134088183978640: TensorSpec(shape=(), dtype=tf.resource, name=None)\n",
            "  134088183979408: TensorSpec(shape=(), dtype=tf.resource, name=None)\n",
            "  134088183981328: TensorSpec(shape=(), dtype=tf.resource, name=None)\n",
            "  134088183982288: TensorSpec(shape=(), dtype=tf.resource, name=None)\n",
            "  134088183981520: TensorSpec(shape=(), dtype=tf.resource, name=None)\n",
            "  134088183980176: TensorSpec(shape=(), dtype=tf.resource, name=None)\n",
            "  134088183983248: TensorSpec(shape=(), dtype=tf.resource, name=None)\n",
            "  134088183982864: TensorSpec(shape=(), dtype=tf.resource, name=None)\n",
            "  134088183984208: TensorSpec(shape=(), dtype=tf.resource, name=None)\n",
            "  134088183983440: TensorSpec(shape=(), dtype=tf.resource, name=None)\n",
            "  134088183981136: TensorSpec(shape=(), dtype=tf.resource, name=None)\n",
            "  134088183985168: TensorSpec(shape=(), dtype=tf.resource, name=None)\n",
            "  134088183985360: TensorSpec(shape=(), dtype=tf.resource, name=None)\n",
            "  134088183983632: TensorSpec(shape=(), dtype=tf.resource, name=None)\n",
            "  134088183985744: TensorSpec(shape=(), dtype=tf.resource, name=None)\n",
            "  134088183981712: TensorSpec(shape=(), dtype=tf.resource, name=None)\n",
            "  134088183986896: TensorSpec(shape=(), dtype=tf.resource, name=None)\n",
            "  134088183987856: TensorSpec(shape=(), dtype=tf.resource, name=None)\n",
            "  134088183986512: TensorSpec(shape=(), dtype=tf.resource, name=None)\n",
            "  134088183986320: TensorSpec(shape=(), dtype=tf.resource, name=None)\n",
            "  134088183987472: TensorSpec(shape=(), dtype=tf.resource, name=None)\n",
            "  134088182383056: TensorSpec(shape=(), dtype=tf.resource, name=None)\n",
            "  134088182384016: TensorSpec(shape=(), dtype=tf.resource, name=None)\n",
            "  134088183980560: TensorSpec(shape=(), dtype=tf.resource, name=None)\n",
            "  134088182382864: TensorSpec(shape=(), dtype=tf.resource, name=None)\n",
            "  134088182384976: TensorSpec(shape=(), dtype=tf.resource, name=None)\n",
            "  134088182384592: TensorSpec(shape=(), dtype=tf.resource, name=None)\n",
            "  134088182385936: TensorSpec(shape=(), dtype=tf.resource, name=None)\n",
            "  134088182385168: TensorSpec(shape=(), dtype=tf.resource, name=None)\n",
            "  134088182383824: TensorSpec(shape=(), dtype=tf.resource, name=None)\n",
            "  134088182386896: TensorSpec(shape=(), dtype=tf.resource, name=None)\n",
            "  134088182387088: TensorSpec(shape=(), dtype=tf.resource, name=None)\n",
            "  134088182385360: TensorSpec(shape=(), dtype=tf.resource, name=None)\n",
            "  134088182387472: TensorSpec(shape=(), dtype=tf.resource, name=None)\n",
            "  134088182382672: TensorSpec(shape=(), dtype=tf.resource, name=None)\n",
            "  134088182388624: TensorSpec(shape=(), dtype=tf.resource, name=None)\n",
            "  134088182389392: TensorSpec(shape=(), dtype=tf.resource, name=None)\n",
            "  134088182388240: TensorSpec(shape=(), dtype=tf.resource, name=None)\n",
            "  134088182388048: TensorSpec(shape=(), dtype=tf.resource, name=None)\n",
            "  134088182388816: TensorSpec(shape=(), dtype=tf.resource, name=None)\n",
            "  134088182390736: TensorSpec(shape=(), dtype=tf.resource, name=None)\n",
            "  134088182391696: TensorSpec(shape=(), dtype=tf.resource, name=None)\n",
            "  134088182390928: TensorSpec(shape=(), dtype=tf.resource, name=None)\n",
            "  134088182389584: TensorSpec(shape=(), dtype=tf.resource, name=None)\n",
            "  134088182392656: TensorSpec(shape=(), dtype=tf.resource, name=None)\n",
            "  134088182392272: TensorSpec(shape=(), dtype=tf.resource, name=None)\n",
            "  134088182393616: TensorSpec(shape=(), dtype=tf.resource, name=None)\n",
            "  134088182392848: TensorSpec(shape=(), dtype=tf.resource, name=None)\n",
            "  134088182390544: TensorSpec(shape=(), dtype=tf.resource, name=None)\n",
            "  134088182394576: TensorSpec(shape=(), dtype=tf.resource, name=None)\n",
            "  134088182394768: TensorSpec(shape=(), dtype=tf.resource, name=None)\n",
            "  134088182393040: TensorSpec(shape=(), dtype=tf.resource, name=None)\n",
            "  134088182395152: TensorSpec(shape=(), dtype=tf.resource, name=None)\n",
            "  134088182391120: TensorSpec(shape=(), dtype=tf.resource, name=None)\n",
            "  134088182396304: TensorSpec(shape=(), dtype=tf.resource, name=None)\n",
            "  134088182397072: TensorSpec(shape=(), dtype=tf.resource, name=None)\n",
            "  134088182395920: TensorSpec(shape=(), dtype=tf.resource, name=None)\n",
            "  134088182395728: TensorSpec(shape=(), dtype=tf.resource, name=None)\n",
            "  134088182396496: TensorSpec(shape=(), dtype=tf.resource, name=None)\n",
            "  134088182398608: TensorSpec(shape=(), dtype=tf.resource, name=None)\n",
            "  134088182398416: TensorSpec(shape=(), dtype=tf.resource, name=None)\n",
            "  134088182394960: TensorSpec(shape=(), dtype=tf.resource, name=None)\n",
            "  134088182398224: TensorSpec(shape=(), dtype=tf.resource, name=None)\n",
            "  134088182825424: TensorSpec(shape=(), dtype=tf.resource, name=None)\n",
            "  134088182826384: TensorSpec(shape=(), dtype=tf.resource, name=None)\n",
            "  134088182827344: TensorSpec(shape=(), dtype=tf.resource, name=None)\n",
            "  134088182826576: TensorSpec(shape=(), dtype=tf.resource, name=None)\n",
            "  134088182825616: TensorSpec(shape=(), dtype=tf.resource, name=None)\n",
            "  134088182828304: TensorSpec(shape=(), dtype=tf.resource, name=None)\n",
            "  134088182828496: TensorSpec(shape=(), dtype=tf.resource, name=None)\n",
            "  134088182826768: TensorSpec(shape=(), dtype=tf.resource, name=None)\n",
            "  134088182828880: TensorSpec(shape=(), dtype=tf.resource, name=None)\n",
            "  134088182826000: TensorSpec(shape=(), dtype=tf.resource, name=None)\n",
            "  134088182830032: TensorSpec(shape=(), dtype=tf.resource, name=None)\n",
            "  134088182830800: TensorSpec(shape=(), dtype=tf.resource, name=None)\n",
            "  134088182829648: TensorSpec(shape=(), dtype=tf.resource, name=None)\n",
            "  134088182829456: TensorSpec(shape=(), dtype=tf.resource, name=None)\n",
            "  134088182830224: TensorSpec(shape=(), dtype=tf.resource, name=None)\n",
            "  134088182832144: TensorSpec(shape=(), dtype=tf.resource, name=None)\n",
            "  134088182833104: TensorSpec(shape=(), dtype=tf.resource, name=None)\n",
            "  134088182832336: TensorSpec(shape=(), dtype=tf.resource, name=None)\n",
            "  134088182830992: TensorSpec(shape=(), dtype=tf.resource, name=None)\n",
            "  134088182834064: TensorSpec(shape=(), dtype=tf.resource, name=None)\n",
            "  134088182833680: TensorSpec(shape=(), dtype=tf.resource, name=None)\n",
            "  134088182835024: TensorSpec(shape=(), dtype=tf.resource, name=None)\n",
            "  134088182834256: TensorSpec(shape=(), dtype=tf.resource, name=None)\n",
            "  134088182831952: TensorSpec(shape=(), dtype=tf.resource, name=None)\n",
            "  134088182835984: TensorSpec(shape=(), dtype=tf.resource, name=None)\n",
            "  134088182836176: TensorSpec(shape=(), dtype=tf.resource, name=None)\n",
            "  134088182834448: TensorSpec(shape=(), dtype=tf.resource, name=None)\n",
            "  134088182836560: TensorSpec(shape=(), dtype=tf.resource, name=None)\n",
            "  134088182832528: TensorSpec(shape=(), dtype=tf.resource, name=None)\n",
            "  134088182837712: TensorSpec(shape=(), dtype=tf.resource, name=None)\n",
            "  134088182838480: TensorSpec(shape=(), dtype=tf.resource, name=None)\n",
            "  134088182837328: TensorSpec(shape=(), dtype=tf.resource, name=None)\n",
            "  134088182837136: TensorSpec(shape=(), dtype=tf.resource, name=None)\n",
            "  134088182839440: TensorSpec(shape=(), dtype=tf.resource, name=None)\n",
            "  134088182839056: TensorSpec(shape=(), dtype=tf.resource, name=None)\n",
            "  134088182840400: TensorSpec(shape=(), dtype=tf.resource, name=None)\n",
            "  134088182839632: TensorSpec(shape=(), dtype=tf.resource, name=None)\n",
            "  134088182836368: TensorSpec(shape=(), dtype=tf.resource, name=None)\n",
            "  134088182831376: TensorSpec(shape=(), dtype=tf.resource, name=None)\n",
            "  134088183267792: TensorSpec(shape=(), dtype=tf.resource, name=None)\n",
            "  134088183267984: TensorSpec(shape=(), dtype=tf.resource, name=None)\n",
            "  134088182837904: TensorSpec(shape=(), dtype=tf.resource, name=None)\n",
            "  134088182840208: TensorSpec(shape=(), dtype=tf.resource, name=None)\n",
            "  134088183269328: TensorSpec(shape=(), dtype=tf.resource, name=None)\n",
            "  134088183269520: TensorSpec(shape=(), dtype=tf.resource, name=None)\n",
            "  134088183267408: TensorSpec(shape=(), dtype=tf.resource, name=None)\n",
            "  134088183269904: TensorSpec(shape=(), dtype=tf.resource, name=None)\n",
            "  134088183267600: TensorSpec(shape=(), dtype=tf.resource, name=None)\n",
            "  134088183271056: TensorSpec(shape=(), dtype=tf.resource, name=None)\n",
            "  134088183271824: TensorSpec(shape=(), dtype=tf.resource, name=None)\n",
            "  134088183270672: TensorSpec(shape=(), dtype=tf.resource, name=None)\n",
            "  134088183270480: TensorSpec(shape=(), dtype=tf.resource, name=None)\n",
            "  134088183268560: TensorSpec(shape=(), dtype=tf.resource, name=None)\n",
            "  134088183273360: TensorSpec(shape=(), dtype=tf.resource, name=None)\n",
            "  134088183274320: TensorSpec(shape=(), dtype=tf.resource, name=None)\n",
            "  134088183273552: TensorSpec(shape=(), dtype=tf.resource, name=None)\n",
            "  134088183272784: TensorSpec(shape=(), dtype=tf.resource, name=None)\n",
            "  134088183275280: TensorSpec(shape=(), dtype=tf.resource, name=None)\n",
            "  134088183274896: TensorSpec(shape=(), dtype=tf.resource, name=None)\n",
            "  134088183276240: TensorSpec(shape=(), dtype=tf.resource, name=None)\n",
            "  134088183275472: TensorSpec(shape=(), dtype=tf.resource, name=None)\n",
            "  134088183273168: TensorSpec(shape=(), dtype=tf.resource, name=None)\n",
            "  134088183277200: TensorSpec(shape=(), dtype=tf.resource, name=None)\n",
            "  134088183277392: TensorSpec(shape=(), dtype=tf.resource, name=None)\n",
            "  134088183275664: TensorSpec(shape=(), dtype=tf.resource, name=None)\n",
            "  134088183277776: TensorSpec(shape=(), dtype=tf.resource, name=None)\n",
            "  134088183273744: TensorSpec(shape=(), dtype=tf.resource, name=None)\n",
            "  134088183278928: TensorSpec(shape=(), dtype=tf.resource, name=None)\n",
            "  134088183279696: TensorSpec(shape=(), dtype=tf.resource, name=None)\n",
            "  134088183278544: TensorSpec(shape=(), dtype=tf.resource, name=None)\n",
            "  134088183278352: TensorSpec(shape=(), dtype=tf.resource, name=None)\n",
            "  134088183272976: TensorSpec(shape=(), dtype=tf.resource, name=None)\n",
            "  134088183281232: TensorSpec(shape=(), dtype=tf.resource, name=None)\n",
            "  134088183282192: TensorSpec(shape=(), dtype=tf.resource, name=None)\n",
            "  134088183281424: TensorSpec(shape=(), dtype=tf.resource, name=None)\n",
            "  134088183280656: TensorSpec(shape=(), dtype=tf.resource, name=None)\n",
            "  134088183283152: TensorSpec(shape=(), dtype=tf.resource, name=None)\n",
            "  134088183283344: TensorSpec(shape=(), dtype=tf.resource, name=None)\n",
            "  134088183282768: TensorSpec(shape=(), dtype=tf.resource, name=None)\n",
            "  134088183282384: TensorSpec(shape=(), dtype=tf.resource, name=None)\n",
            "  134088183280848: TensorSpec(shape=(), dtype=tf.resource, name=None)\n",
            "  134088181645776: TensorSpec(shape=(), dtype=tf.resource, name=None)\n",
            "  134088181646928: TensorSpec(shape=(), dtype=tf.resource, name=None)\n",
            "  134088181646352: TensorSpec(shape=(), dtype=tf.resource, name=None)\n",
            "  134088181647312: TensorSpec(shape=(), dtype=tf.resource, name=None)\n",
            "  134088181646544: TensorSpec(shape=(), dtype=tf.resource, name=None)\n",
            "  134088181648464: TensorSpec(shape=(), dtype=tf.resource, name=None)\n",
            "  134088181649232: TensorSpec(shape=(), dtype=tf.resource, name=None)\n",
            "  134088181648080: TensorSpec(shape=(), dtype=tf.resource, name=None)\n",
            "  134088181647888: TensorSpec(shape=(), dtype=tf.resource, name=None)\n",
            "  134088181648656: TensorSpec(shape=(), dtype=tf.resource, name=None)\n",
            "  134088181650576: TensorSpec(shape=(), dtype=tf.resource, name=None)\n",
            "  134088181651536: TensorSpec(shape=(), dtype=tf.resource, name=None)\n",
            "  134088181650768: TensorSpec(shape=(), dtype=tf.resource, name=None)\n",
            "  134088181649424: TensorSpec(shape=(), dtype=tf.resource, name=None)\n",
            "  134088181652496: TensorSpec(shape=(), dtype=tf.resource, name=None)\n",
            "  134088181652112: TensorSpec(shape=(), dtype=tf.resource, name=None)\n",
            "  134088181653456: TensorSpec(shape=(), dtype=tf.resource, name=None)\n",
            "  134088181652688: TensorSpec(shape=(), dtype=tf.resource, name=None)\n",
            "  134088181650384: TensorSpec(shape=(), dtype=tf.resource, name=None)\n",
            "  134088181654416: TensorSpec(shape=(), dtype=tf.resource, name=None)\n",
            "  134088181654608: TensorSpec(shape=(), dtype=tf.resource, name=None)\n",
            "  134088181652880: TensorSpec(shape=(), dtype=tf.resource, name=None)\n",
            "  134088181654992: TensorSpec(shape=(), dtype=tf.resource, name=None)\n",
            "  134088181650960: TensorSpec(shape=(), dtype=tf.resource, name=None)\n",
            "  134088181656144: TensorSpec(shape=(), dtype=tf.resource, name=None)\n",
            "  134088181656912: TensorSpec(shape=(), dtype=tf.resource, name=None)\n",
            "  134088181655760: TensorSpec(shape=(), dtype=tf.resource, name=None)\n",
            "  134088181655568: TensorSpec(shape=(), dtype=tf.resource, name=None)\n",
            "  134088181657872: TensorSpec(shape=(), dtype=tf.resource, name=None)\n",
            "  134088181657488: TensorSpec(shape=(), dtype=tf.resource, name=None)\n",
            "  134088181658832: TensorSpec(shape=(), dtype=tf.resource, name=None)\n",
            "  134088181658064: TensorSpec(shape=(), dtype=tf.resource, name=None)\n",
            "  134088181654800: TensorSpec(shape=(), dtype=tf.resource, name=None)\n",
            "  134088181659792: TensorSpec(shape=(), dtype=tf.resource, name=None)\n",
            "  134088181659408: TensorSpec(shape=(), dtype=tf.resource, name=None)\n",
            "  134088181660752: TensorSpec(shape=(), dtype=tf.resource, name=None)\n",
            "  134088181659984: TensorSpec(shape=(), dtype=tf.resource, name=None)\n",
            "  134088181649808: TensorSpec(shape=(), dtype=tf.resource, name=None)\n",
            "  134088181656336: TensorSpec(shape=(), dtype=tf.resource, name=None)\n",
            "  134088181658256: TensorSpec(shape=(), dtype=tf.resource, name=None)\n",
            "  134088181661328: TensorSpec(shape=(), dtype=tf.resource, name=None)\n",
            "  134088182154448: TensorSpec(shape=(), dtype=tf.resource, name=None)\n",
            "  134088182153296: TensorSpec(shape=(), dtype=tf.resource, name=None)\n",
            "  134088182153488: TensorSpec(shape=(), dtype=tf.resource, name=None)\n",
            "  134088182155792: TensorSpec(shape=(), dtype=tf.resource, name=None)\n",
            "  134088182154640: TensorSpec(shape=(), dtype=tf.resource, name=None)\n",
            "  134088182154832: TensorSpec(shape=(), dtype=tf.resource, name=None)\n",
            "  134088182155216: TensorSpec(shape=(), dtype=tf.resource, name=None)\n",
            "  134088182157136: TensorSpec(shape=(), dtype=tf.resource, name=None)\n",
            "  134088182158096: TensorSpec(shape=(), dtype=tf.resource, name=None)\n",
            "  134088182157328: TensorSpec(shape=(), dtype=tf.resource, name=None)\n",
            "  134088182155984: TensorSpec(shape=(), dtype=tf.resource, name=None)\n",
            "  134088182159056: TensorSpec(shape=(), dtype=tf.resource, name=None)\n",
            "  134088182158672: TensorSpec(shape=(), dtype=tf.resource, name=None)\n",
            "  134088182160016: TensorSpec(shape=(), dtype=tf.resource, name=None)\n",
            "  134088182159248: TensorSpec(shape=(), dtype=tf.resource, name=None)\n",
            "  134088182156944: TensorSpec(shape=(), dtype=tf.resource, name=None)\n",
            "  134088182160976: TensorSpec(shape=(), dtype=tf.resource, name=None)\n",
            "  134088182161168: TensorSpec(shape=(), dtype=tf.resource, name=None)\n",
            "  134088182159440: TensorSpec(shape=(), dtype=tf.resource, name=None)\n",
            "  134088182161552: TensorSpec(shape=(), dtype=tf.resource, name=None)\n",
            "  134088182157520: TensorSpec(shape=(), dtype=tf.resource, name=None)\n",
            "  134088182162704: TensorSpec(shape=(), dtype=tf.resource, name=None)\n",
            "  134088182163472: TensorSpec(shape=(), dtype=tf.resource, name=None)\n",
            "  134088182161360: TensorSpec(shape=(), dtype=tf.resource, name=None)\n",
            "  134088182162128: TensorSpec(shape=(), dtype=tf.resource, name=None)\n",
            "  134088182163280: TensorSpec(shape=(), dtype=tf.resource, name=None)\n",
            "  134088182164816: TensorSpec(shape=(), dtype=tf.resource, name=None)\n",
            "  134088182165776: TensorSpec(shape=(), dtype=tf.resource, name=None)\n",
            "  134088182165008: TensorSpec(shape=(), dtype=tf.resource, name=None)\n",
            "  134088182163664: TensorSpec(shape=(), dtype=tf.resource, name=None)\n",
            "  134088182166736: TensorSpec(shape=(), dtype=tf.resource, name=None)\n",
            "  134088182166352: TensorSpec(shape=(), dtype=tf.resource, name=None)\n",
            "  134088182167696: TensorSpec(shape=(), dtype=tf.resource, name=None)\n",
            "  134088182166928: TensorSpec(shape=(), dtype=tf.resource, name=None)\n",
            "  134088182164624: TensorSpec(shape=(), dtype=tf.resource, name=None)\n",
            "  134088182168656: TensorSpec(shape=(), dtype=tf.resource, name=None)\n",
            "  134088182168272: TensorSpec(shape=(), dtype=tf.resource, name=None)\n",
            "  134088182169232: TensorSpec(shape=(), dtype=tf.resource, name=None)\n",
            "  134088182169424: TensorSpec(shape=(), dtype=tf.resource, name=None)\n",
            "  134088182168848: TensorSpec(shape=(), dtype=tf.resource, name=None)\n",
            "  134088180581392: TensorSpec(shape=(), dtype=tf.resource, name=None)\n",
            "  134088180580432: TensorSpec(shape=(), dtype=tf.resource, name=None)\n",
            "  134088182165200: TensorSpec(shape=(), dtype=tf.resource, name=None)\n",
            "  134088180580624: TensorSpec(shape=(), dtype=tf.resource, name=None)\n",
            "  134088180581200: TensorSpec(shape=(), dtype=tf.resource, name=None)\n",
            "  134088180583312: TensorSpec(shape=(), dtype=tf.resource, name=None)\n",
            "  134088180584272: TensorSpec(shape=(), dtype=tf.resource, name=None)\n",
            "  134088180583504: TensorSpec(shape=(), dtype=tf.resource, name=None)\n",
            "  134088180582160: TensorSpec(shape=(), dtype=tf.resource, name=None)\n",
            "  134088180585232: TensorSpec(shape=(), dtype=tf.resource, name=None)\n",
            "  134088180584848: TensorSpec(shape=(), dtype=tf.resource, name=None)\n",
            "  134088180586192: TensorSpec(shape=(), dtype=tf.resource, name=None)\n",
            "  134088180585424: TensorSpec(shape=(), dtype=tf.resource, name=None)\n",
            "  134088180583120: TensorSpec(shape=(), dtype=tf.resource, name=None)\n",
            "  134088180587152: TensorSpec(shape=(), dtype=tf.resource, name=None)\n",
            "  134088180587344: TensorSpec(shape=(), dtype=tf.resource, name=None)\n",
            "  134088180585616: TensorSpec(shape=(), dtype=tf.resource, name=None)\n",
            "  134088180587728: TensorSpec(shape=(), dtype=tf.resource, name=None)\n",
            "  134088180583696: TensorSpec(shape=(), dtype=tf.resource, name=None)\n",
            "  134088180588880: TensorSpec(shape=(), dtype=tf.resource, name=None)\n",
            "  134088180589648: TensorSpec(shape=(), dtype=tf.resource, name=None)\n",
            "  134088180588496: TensorSpec(shape=(), dtype=tf.resource, name=None)\n",
            "  134088180588304: TensorSpec(shape=(), dtype=tf.resource, name=None)\n",
            "  134088180589072: TensorSpec(shape=(), dtype=tf.resource, name=None)\n",
            "  134088180590992: TensorSpec(shape=(), dtype=tf.resource, name=None)\n",
            "  134088180591952: TensorSpec(shape=(), dtype=tf.resource, name=None)\n",
            "  134088180591184: TensorSpec(shape=(), dtype=tf.resource, name=None)\n",
            "  134088180589840: TensorSpec(shape=(), dtype=tf.resource, name=None)\n",
            "  134088180592912: TensorSpec(shape=(), dtype=tf.resource, name=None)\n",
            "  134088180592528: TensorSpec(shape=(), dtype=tf.resource, name=None)\n",
            "  134088180593872: TensorSpec(shape=(), dtype=tf.resource, name=None)\n",
            "  134088180593104: TensorSpec(shape=(), dtype=tf.resource, name=None)\n",
            "  134088180590800: TensorSpec(shape=(), dtype=tf.resource, name=None)\n",
            "  134088180594832: TensorSpec(shape=(), dtype=tf.resource, name=None)\n",
            "  134088180595024: TensorSpec(shape=(), dtype=tf.resource, name=None)\n",
            "  134088180593296: TensorSpec(shape=(), dtype=tf.resource, name=None)\n",
            "  134088180595408: TensorSpec(shape=(), dtype=tf.resource, name=None)\n",
            "  134088180591376: TensorSpec(shape=(), dtype=tf.resource, name=None)\n",
            "  134088180596560: TensorSpec(shape=(), dtype=tf.resource, name=None)\n",
            "  134088181055952: TensorSpec(shape=(), dtype=tf.resource, name=None)\n",
            "  134088180590224: TensorSpec(shape=(), dtype=tf.resource, name=None)\n",
            "  134088180595216: TensorSpec(shape=(), dtype=tf.resource, name=None)\n",
            "  134088181057104: TensorSpec(shape=(), dtype=tf.resource, name=None)\n",
            "  134088181055760: TensorSpec(shape=(), dtype=tf.resource, name=None)\n",
            "  134088181058064: TensorSpec(shape=(), dtype=tf.resource, name=None)\n",
            "  134088181057296: TensorSpec(shape=(), dtype=tf.resource, name=None)\n",
            "  134088181056336: TensorSpec(shape=(), dtype=tf.resource, name=None)\n",
            "  134088181059024: TensorSpec(shape=(), dtype=tf.resource, name=None)\n",
            "  134088181058640: TensorSpec(shape=(), dtype=tf.resource, name=None)\n",
            "  134088181059984: TensorSpec(shape=(), dtype=tf.resource, name=None)\n",
            "  134088181059216: TensorSpec(shape=(), dtype=tf.resource, name=None)\n",
            "  134088181056528: TensorSpec(shape=(), dtype=tf.resource, name=None)\n",
            "  134088181060944: TensorSpec(shape=(), dtype=tf.resource, name=None)\n",
            "  134088181061136: TensorSpec(shape=(), dtype=tf.resource, name=None)\n",
            "  134088181059408: TensorSpec(shape=(), dtype=tf.resource, name=None)\n",
            "  134088181061520: TensorSpec(shape=(), dtype=tf.resource, name=None)\n",
            "  134088181057488: TensorSpec(shape=(), dtype=tf.resource, name=None)\n",
            "  134088181062672: TensorSpec(shape=(), dtype=tf.resource, name=None)\n",
            "  134088181063440: TensorSpec(shape=(), dtype=tf.resource, name=None)\n",
            "  134088181062288: TensorSpec(shape=(), dtype=tf.resource, name=None)\n",
            "  134088181062096: TensorSpec(shape=(), dtype=tf.resource, name=None)\n",
            "  134088181062864: TensorSpec(shape=(), dtype=tf.resource, name=None)\n",
            "  134088181064784: TensorSpec(shape=(), dtype=tf.resource, name=None)\n",
            "  134088181065744: TensorSpec(shape=(), dtype=tf.resource, name=None)\n",
            "  134088181064976: TensorSpec(shape=(), dtype=tf.resource, name=None)\n",
            "  134088181063632: TensorSpec(shape=(), dtype=tf.resource, name=None)\n",
            "  134088181064016: TensorSpec(shape=(), dtype=tf.resource, name=None)\n",
            "  134088181068048: TensorSpec(shape=(), dtype=tf.resource, name=None)\n"
          ]
        },
        {
          "output_type": "stream",
          "name": "stderr",
          "text": [
            "/usr/local/lib/python3.11/dist-packages/tensorflow/lite/python/convert.py:997: UserWarning: Statistics for quantized inputs were expected, but not specified; continuing anyway.\n",
            "  warnings.warn(\n"
          ]
        },
        {
          "output_type": "stream",
          "name": "stdout",
          "text": [
            "model size: 89.39 MB\n",
            "quantized model size: 8.71 MB\n"
          ]
        }
      ]
    },
    {
      "cell_type": "code",
      "source": [
        "import time\n",
        "def test_tflite_model(tflite_model_path, test_generator):\n",
        "\n",
        "\n",
        "    interpreter = tf.lite.Interpreter(model_path=tflite_model_path)\n",
        "    interpreter.allocate_tensors()\n",
        "\n",
        "\n",
        "    input_details = interpreter.get_input_details()\n",
        "    output_details = interpreter.get_output_details()\n",
        "\n",
        "    print(f\"Input tensor shape: {input_details[0]['shape']}\")\n",
        "    print(f\"Input tensor type: {input_details[0]['dtype']}\")\n",
        "    print(f\"Output tensor shape: {output_details[0]['shape']}\")\n",
        "    print(f\"Output tensor type: {output_details[0]['dtype']}\")\n",
        "\n",
        "\n",
        "    input_scale, input_zero_point = input_details[0]['quantization']\n",
        "    output_scale, output_zero_point = output_details[0]['quantization']\n",
        "\n",
        "    print(f\"Input - Scale: {input_scale}, Zero point: {input_zero_point}\")\n",
        "    print(f\"Output - Scale: {output_scale}, Zero point: {output_zero_point}\")\n",
        "\n",
        "\n",
        "    all_predictions = []\n",
        "    all_true_labels = []\n",
        "    inference_times = []\n",
        "\n",
        "    batch_count = 0\n",
        "    total_samples = 0\n",
        "\n",
        "\n",
        "    test_generator.reset()\n",
        "\n",
        "    for batch_images, batch_labels in test_generator:\n",
        "        batch_count += 1\n",
        "\n",
        "        for i in range(len(batch_images)):\n",
        "\n",
        "            image = batch_images[i]\n",
        "            # image was preprocessed.\n",
        "\n",
        "            if input_details[0]['dtype'] == np.uint8:\n",
        "                image = image / input_scale + input_zero_point\n",
        "                image = np.clip(image, 0, 255).astype(np.uint8)\n",
        "\n",
        "            elif input_details[0]['dtype'] == np.int8:\n",
        "               image = image / input_scale + input_zero_point\n",
        "               image = np.clip(image, -128, 127).astype(np.int8)\n",
        "\n",
        "            image = np.expand_dims(image, axis=0)\n",
        "\n",
        "\n",
        "            start_time = time.time()\n",
        "\n",
        "\n",
        "            interpreter.set_tensor(input_details[0]['index'], image)\n",
        "\n",
        "\n",
        "            interpreter.invoke()\n",
        "\n",
        "\n",
        "            output_data = interpreter.get_tensor(output_details[0]['index'])\n",
        "\n",
        "            end_time = time.time()\n",
        "            inference_times.append((end_time - start_time) * 1000)\n",
        "\n",
        "\n",
        "            if output_details[0]['dtype'] == np.uint8 or output_details[0]['dtype'] == np.int8:\n",
        "                predictions = (output_data.astype(np.float32) - output_zero_point) * output_scale\n",
        "            else:\n",
        "                predictions = output_data\n",
        "\n",
        "\n",
        "            predictions = predictions / np.sum(predictions, axis=-1, keepdims=True)\n",
        "\n",
        "            all_predictions.append(np.argmax(predictions))\n",
        "            all_true_labels.append(np.argmax(batch_labels[i]))\n",
        "            total_samples += 1\n",
        "        if batch_count >= len(test_generator):\n",
        "            break\n",
        "\n",
        "\n",
        "    accuracy = accuracy_score(all_true_labels, all_predictions)\n",
        "    avg_inference_time = np.mean(inference_times)\n",
        "\n",
        "    print(f\"TFLite accuracy: {accuracy:.4f}\")\n",
        "    print(f\"Inference time: {avg_inference_time:.2f} ms\")\n",
        "\n",
        "\n",
        "    return accuracy, avg_inference_time\n",
        "\n",
        "test_tflite_model(\"model_int8.tflite\",test_generator)"
      ],
      "metadata": {
        "colab": {
          "base_uri": "https://localhost:8080/"
        },
        "id": "YngHIgi7Ar8O",
        "outputId": "38b2d029-f942-4c9c-c761-42edecf9f1ed"
      },
      "id": "YngHIgi7Ar8O",
      "execution_count": 13,
      "outputs": [
        {
          "output_type": "stream",
          "name": "stdout",
          "text": [
            "Input tensor shape: [  1 288 288   3]\n",
            "Input tensor type: <class 'numpy.int8'>\n",
            "Output tensor shape: [1 5]\n",
            "Output tensor type: <class 'numpy.int8'>\n",
            "Input - Scale: 1.0, Zero point: -128\n",
            "Output - Scale: 0.00390625, Zero point: -128\n",
            "TFLite accuracy: 0.7500\n",
            "Inference time: 73.78 ms\n"
          ]
        },
        {
          "output_type": "execute_result",
          "data": {
            "text/plain": [
              "(0.75, np.float64(73.78081011772156))"
            ]
          },
          "metadata": {},
          "execution_count": 13
        }
      ]
    },
    {
      "cell_type": "code",
      "source": [
        "def test_original_model_inference(original_model, test_generator):\n",
        "\n",
        "    test_generator.reset()\n",
        "\n",
        "    inference_times = []\n",
        "    all_predictions = []\n",
        "    all_true_labels = []\n",
        "    total_samples = 0\n",
        "    batch_count = 0\n",
        "\n",
        "    for batch_images, batch_labels in test_generator:\n",
        "        batch_count += 1\n",
        "\n",
        "        for i in range(len(batch_images)):\n",
        "            image = np.expand_dims(batch_images[i], axis=0)\n",
        "\n",
        "\n",
        "            start_time = time.time()\n",
        "            prediction = original_model.predict(image, verbose=0)\n",
        "            end_time = time.time()\n",
        "\n",
        "            inference_times.append((end_time - start_time) * 1000)\n",
        "\n",
        "            all_predictions.append(np.argmax(prediction))\n",
        "            all_true_labels.append(np.argmax(batch_labels[i]))\n",
        "            total_samples += 1\n",
        "        if batch_count >= len(test_generator):\n",
        "            break\n",
        "\n",
        "    accuracy = accuracy_score(all_true_labels, all_predictions)\n",
        "    avg_inference_time = np.mean(inference_times)\n",
        "\n",
        "\n",
        "\n",
        "    print(f\"model accuracy: {accuracy:.4f} ({accuracy*100:.2f}%)\")\n",
        "    print(f\"inference time: {avg_inference_time:.2f} ms\")\n",
        "\n",
        "\n",
        "    return accuracy, avg_inference_time\n",
        "test_original_model_inference(model,test_generator)"
      ],
      "metadata": {
        "colab": {
          "base_uri": "https://localhost:8080/"
        },
        "id": "xZopO8wVC3qm",
        "outputId": "55773588-eae9-486e-805e-4a39d97b0299"
      },
      "id": "xZopO8wVC3qm",
      "execution_count": 14,
      "outputs": [
        {
          "output_type": "stream",
          "name": "stdout",
          "text": [
            "model accuracy: 0.8330 (83.30%)\n",
            "inference time: 160.31 ms\n"
          ]
        },
        {
          "output_type": "execute_result",
          "data": {
            "text/plain": [
              "(0.833, np.float64(160.31271696090698))"
            ]
          },
          "metadata": {},
          "execution_count": 14
        }
      ]
    },
    {
      "cell_type": "code",
      "source": [],
      "metadata": {
        "id": "wAQUlEfsEqqE"
      },
      "id": "wAQUlEfsEqqE",
      "execution_count": null,
      "outputs": []
    }
  ],
  "metadata": {
    "kaggle": {
      "accelerator": "none",
      "dataSources": [
        {
          "datasetId": 463280,
          "sourceId": 879701,
          "sourceType": "datasetVersion"
        }
      ],
      "isGpuEnabled": false,
      "isInternetEnabled": true,
      "language": "python",
      "sourceType": "notebook"
    },
    "kernelspec": {
      "display_name": "Python 3",
      "name": "python3"
    },
    "language_info": {
      "codemirror_mode": {
        "name": "ipython",
        "version": 3
      },
      "file_extension": ".py",
      "mimetype": "text/x-python",
      "name": "python",
      "nbconvert_exporter": "python",
      "pygments_lexer": "ipython3",
      "version": "3.11.11"
    },
    "papermill": {
      "default_parameters": {},
      "duration": 4989.587538,
      "end_time": "2025-07-02T03:45:58.675615",
      "environment_variables": {},
      "exception": null,
      "input_path": "__notebook__.ipynb",
      "output_path": "__notebook__.ipynb",
      "parameters": {},
      "start_time": "2025-07-02T02:22:49.088077",
      "version": "2.6.0"
    },
    "colab": {
      "provenance": [],
      "machine_shape": "hm"
    }
  },
  "nbformat": 4,
  "nbformat_minor": 5
}