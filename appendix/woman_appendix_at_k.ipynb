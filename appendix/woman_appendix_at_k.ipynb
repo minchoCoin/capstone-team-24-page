{
 "cells": [
  {
   "cell_type": "code",
   "execution_count": 1,
   "metadata": {},
   "outputs": [],
   "source": [
    "import pandas as pd\n",
    "import numpy as np\n",
    "from sklearn.preprocessing import OneHotEncoder\n",
    "import pickle\n",
    "from sklearn.ensemble import RandomForestRegressor\n",
    "from sklearn.model_selection import GridSearchCV"
   ]
  },
  {
   "cell_type": "code",
   "execution_count": 2,
   "metadata": {},
   "outputs": [],
   "source": [
    "def make_train_df(rating,clothes,user):\n",
    "    df = pd.merge(rating,user,how='inner',on='R_id')\n",
    "    df = pd.merge(df,clothes,how='inner',on='image')\n",
    "    df=df.drop(columns=['스타일선호','mar','job','income','r_style1','r_style2','r_style3','r_style4','r_style5'])\n",
    "    df_rating = df['선호여부']\n",
    "    df = df.drop(columns=['선호여부'])\n",
    "    encoder = OneHotEncoder(sparse_output=False)\n",
    "    #print(df.head())\n",
    "    df_encoded = encoder.fit_transform(df.loc[:,'r_gender':'분위기'])\n",
    "    \n",
    "    df_encoded = pd.DataFrame(df_encoded,columns= [f\"col{i}_{elem}\" for i,sublist in enumerate(encoder.categories_) for elem in sublist])\n",
    "    #df = pd.concat([df[['R_id','image']],df_encoded,df.loc[:,'멋있다':].astype(np.int8)],axis=1)\n",
    "    df = pd.concat([df_encoded,df.loc[:,'멋있다':]],axis=1)\n",
    "    #df = df_encoded\n",
    "\n",
    "    return df,df_rating,encoder"
   ]
  },
  {
   "cell_type": "code",
   "execution_count": 3,
   "metadata": {},
   "outputs": [],
   "source": [
    "def make_test_df(rating,clothes,user,encoder):\n",
    "    df = pd.merge(rating,user,how='inner',on='R_id')\n",
    "    df = pd.merge(df,clothes,how='inner',on='image')\n",
    "    \n",
    "    df=df.drop(columns=['스타일선호','mar','job','income','r_style1','r_style2','r_style3','r_style4','r_style5'])\n",
    "    df_rating = df['선호여부']\n",
    "    df = df.drop(columns=['선호여부'])\n",
    "    df_encoded = encoder.transform(df.loc[:,'r_gender':'분위기'])\n",
    "    df_encoded = pd.DataFrame(df_encoded,columns= [f\"col{i}_{elem}\" for i,sublist in enumerate(encoder.categories_) for elem in sublist])\n",
    "    #df = pd.concat([df[['R_id','image']],df_encoded,df.loc[:,'멋있다':].astype(np.int8)],axis=1)\n",
    "    df = pd.concat([df_encoded,df.loc[:,'멋있다':]],axis=1)\n",
    "    #df = df_encoded\n",
    "    return df,df_rating"
   ]
  },
  {
   "cell_type": "code",
   "execution_count": 4,
   "metadata": {},
   "outputs": [],
   "source": [
    "rating = pd.read_csv('../preprocessed/TL_woman_rating_2019.csv')\n",
    "clothes = pd.read_csv('../preprocessed/TL_woman_clothes_2019.csv',index_col='image')\n",
    "user = pd.read_csv('../preprocessed/TL_woman_user_2019.csv',index_col='R_id')\n",
    "\n",
    "train_x,train_y,encoder = make_train_df(rating,clothes,user)"
   ]
  },
  {
   "cell_type": "code",
   "execution_count": 5,
   "metadata": {},
   "outputs": [],
   "source": [
    "train_x.to_csv('../train/train_x_woman.csv',index=False)\n",
    "train_y.to_csv('../train/train_y_woman.csv',index=False)"
   ]
  },
  {
   "cell_type": "code",
   "execution_count": 6,
   "metadata": {},
   "outputs": [],
   "source": [
    "with open('../encoder/onehot_encoder_woman.pkl','wb') as f:\n",
    "    pickle.dump(encoder,f)"
   ]
  },
  {
   "cell_type": "code",
   "execution_count": 7,
   "metadata": {},
   "outputs": [],
   "source": [
    "rating = pd.read_csv('../preprocessed/VL_woman_rating_2019.csv')\n",
    "clothes = pd.read_csv('../preprocessed/VL_woman_clothes_2019.csv',index_col='image')\n",
    "user = pd.read_csv('../preprocessed/VL_woman_user_2019.csv',index_col='R_id')"
   ]
  },
  {
   "cell_type": "code",
   "execution_count": 8,
   "metadata": {},
   "outputs": [],
   "source": [
    "test_x,test_y = make_test_df(rating,clothes,user,encoder)"
   ]
  },
  {
   "cell_type": "code",
   "execution_count": 9,
   "metadata": {},
   "outputs": [
    {
     "data": {
      "text/html": [
       "<style>#sk-container-id-1 {\n",
       "  /* Definition of color scheme common for light and dark mode */\n",
       "  --sklearn-color-text: #000;\n",
       "  --sklearn-color-text-muted: #666;\n",
       "  --sklearn-color-line: gray;\n",
       "  /* Definition of color scheme for unfitted estimators */\n",
       "  --sklearn-color-unfitted-level-0: #fff5e6;\n",
       "  --sklearn-color-unfitted-level-1: #f6e4d2;\n",
       "  --sklearn-color-unfitted-level-2: #ffe0b3;\n",
       "  --sklearn-color-unfitted-level-3: chocolate;\n",
       "  /* Definition of color scheme for fitted estimators */\n",
       "  --sklearn-color-fitted-level-0: #f0f8ff;\n",
       "  --sklearn-color-fitted-level-1: #d4ebff;\n",
       "  --sklearn-color-fitted-level-2: #b3dbfd;\n",
       "  --sklearn-color-fitted-level-3: cornflowerblue;\n",
       "\n",
       "  /* Specific color for light theme */\n",
       "  --sklearn-color-text-on-default-background: var(--sg-text-color, var(--theme-code-foreground, var(--jp-content-font-color1, black)));\n",
       "  --sklearn-color-background: var(--sg-background-color, var(--theme-background, var(--jp-layout-color0, white)));\n",
       "  --sklearn-color-border-box: var(--sg-text-color, var(--theme-code-foreground, var(--jp-content-font-color1, black)));\n",
       "  --sklearn-color-icon: #696969;\n",
       "\n",
       "  @media (prefers-color-scheme: dark) {\n",
       "    /* Redefinition of color scheme for dark theme */\n",
       "    --sklearn-color-text-on-default-background: var(--sg-text-color, var(--theme-code-foreground, var(--jp-content-font-color1, white)));\n",
       "    --sklearn-color-background: var(--sg-background-color, var(--theme-background, var(--jp-layout-color0, #111)));\n",
       "    --sklearn-color-border-box: var(--sg-text-color, var(--theme-code-foreground, var(--jp-content-font-color1, white)));\n",
       "    --sklearn-color-icon: #878787;\n",
       "  }\n",
       "}\n",
       "\n",
       "#sk-container-id-1 {\n",
       "  color: var(--sklearn-color-text);\n",
       "}\n",
       "\n",
       "#sk-container-id-1 pre {\n",
       "  padding: 0;\n",
       "}\n",
       "\n",
       "#sk-container-id-1 input.sk-hidden--visually {\n",
       "  border: 0;\n",
       "  clip: rect(1px 1px 1px 1px);\n",
       "  clip: rect(1px, 1px, 1px, 1px);\n",
       "  height: 1px;\n",
       "  margin: -1px;\n",
       "  overflow: hidden;\n",
       "  padding: 0;\n",
       "  position: absolute;\n",
       "  width: 1px;\n",
       "}\n",
       "\n",
       "#sk-container-id-1 div.sk-dashed-wrapped {\n",
       "  border: 1px dashed var(--sklearn-color-line);\n",
       "  margin: 0 0.4em 0.5em 0.4em;\n",
       "  box-sizing: border-box;\n",
       "  padding-bottom: 0.4em;\n",
       "  background-color: var(--sklearn-color-background);\n",
       "}\n",
       "\n",
       "#sk-container-id-1 div.sk-container {\n",
       "  /* jupyter's `normalize.less` sets `[hidden] { display: none; }`\n",
       "     but bootstrap.min.css set `[hidden] { display: none !important; }`\n",
       "     so we also need the `!important` here to be able to override the\n",
       "     default hidden behavior on the sphinx rendered scikit-learn.org.\n",
       "     See: https://github.com/scikit-learn/scikit-learn/issues/21755 */\n",
       "  display: inline-block !important;\n",
       "  position: relative;\n",
       "}\n",
       "\n",
       "#sk-container-id-1 div.sk-text-repr-fallback {\n",
       "  display: none;\n",
       "}\n",
       "\n",
       "div.sk-parallel-item,\n",
       "div.sk-serial,\n",
       "div.sk-item {\n",
       "  /* draw centered vertical line to link estimators */\n",
       "  background-image: linear-gradient(var(--sklearn-color-text-on-default-background), var(--sklearn-color-text-on-default-background));\n",
       "  background-size: 2px 100%;\n",
       "  background-repeat: no-repeat;\n",
       "  background-position: center center;\n",
       "}\n",
       "\n",
       "/* Parallel-specific style estimator block */\n",
       "\n",
       "#sk-container-id-1 div.sk-parallel-item::after {\n",
       "  content: \"\";\n",
       "  width: 100%;\n",
       "  border-bottom: 2px solid var(--sklearn-color-text-on-default-background);\n",
       "  flex-grow: 1;\n",
       "}\n",
       "\n",
       "#sk-container-id-1 div.sk-parallel {\n",
       "  display: flex;\n",
       "  align-items: stretch;\n",
       "  justify-content: center;\n",
       "  background-color: var(--sklearn-color-background);\n",
       "  position: relative;\n",
       "}\n",
       "\n",
       "#sk-container-id-1 div.sk-parallel-item {\n",
       "  display: flex;\n",
       "  flex-direction: column;\n",
       "}\n",
       "\n",
       "#sk-container-id-1 div.sk-parallel-item:first-child::after {\n",
       "  align-self: flex-end;\n",
       "  width: 50%;\n",
       "}\n",
       "\n",
       "#sk-container-id-1 div.sk-parallel-item:last-child::after {\n",
       "  align-self: flex-start;\n",
       "  width: 50%;\n",
       "}\n",
       "\n",
       "#sk-container-id-1 div.sk-parallel-item:only-child::after {\n",
       "  width: 0;\n",
       "}\n",
       "\n",
       "/* Serial-specific style estimator block */\n",
       "\n",
       "#sk-container-id-1 div.sk-serial {\n",
       "  display: flex;\n",
       "  flex-direction: column;\n",
       "  align-items: center;\n",
       "  background-color: var(--sklearn-color-background);\n",
       "  padding-right: 1em;\n",
       "  padding-left: 1em;\n",
       "}\n",
       "\n",
       "\n",
       "/* Toggleable style: style used for estimator/Pipeline/ColumnTransformer box that is\n",
       "clickable and can be expanded/collapsed.\n",
       "- Pipeline and ColumnTransformer use this feature and define the default style\n",
       "- Estimators will overwrite some part of the style using the `sk-estimator` class\n",
       "*/\n",
       "\n",
       "/* Pipeline and ColumnTransformer style (default) */\n",
       "\n",
       "#sk-container-id-1 div.sk-toggleable {\n",
       "  /* Default theme specific background. It is overwritten whether we have a\n",
       "  specific estimator or a Pipeline/ColumnTransformer */\n",
       "  background-color: var(--sklearn-color-background);\n",
       "}\n",
       "\n",
       "/* Toggleable label */\n",
       "#sk-container-id-1 label.sk-toggleable__label {\n",
       "  cursor: pointer;\n",
       "  display: flex;\n",
       "  width: 100%;\n",
       "  margin-bottom: 0;\n",
       "  padding: 0.5em;\n",
       "  box-sizing: border-box;\n",
       "  text-align: center;\n",
       "  align-items: start;\n",
       "  justify-content: space-between;\n",
       "  gap: 0.5em;\n",
       "}\n",
       "\n",
       "#sk-container-id-1 label.sk-toggleable__label .caption {\n",
       "  font-size: 0.6rem;\n",
       "  font-weight: lighter;\n",
       "  color: var(--sklearn-color-text-muted);\n",
       "}\n",
       "\n",
       "#sk-container-id-1 label.sk-toggleable__label-arrow:before {\n",
       "  /* Arrow on the left of the label */\n",
       "  content: \"▸\";\n",
       "  float: left;\n",
       "  margin-right: 0.25em;\n",
       "  color: var(--sklearn-color-icon);\n",
       "}\n",
       "\n",
       "#sk-container-id-1 label.sk-toggleable__label-arrow:hover:before {\n",
       "  color: var(--sklearn-color-text);\n",
       "}\n",
       "\n",
       "/* Toggleable content - dropdown */\n",
       "\n",
       "#sk-container-id-1 div.sk-toggleable__content {\n",
       "  max-height: 0;\n",
       "  max-width: 0;\n",
       "  overflow: hidden;\n",
       "  text-align: left;\n",
       "  /* unfitted */\n",
       "  background-color: var(--sklearn-color-unfitted-level-0);\n",
       "}\n",
       "\n",
       "#sk-container-id-1 div.sk-toggleable__content.fitted {\n",
       "  /* fitted */\n",
       "  background-color: var(--sklearn-color-fitted-level-0);\n",
       "}\n",
       "\n",
       "#sk-container-id-1 div.sk-toggleable__content pre {\n",
       "  margin: 0.2em;\n",
       "  border-radius: 0.25em;\n",
       "  color: var(--sklearn-color-text);\n",
       "  /* unfitted */\n",
       "  background-color: var(--sklearn-color-unfitted-level-0);\n",
       "}\n",
       "\n",
       "#sk-container-id-1 div.sk-toggleable__content.fitted pre {\n",
       "  /* unfitted */\n",
       "  background-color: var(--sklearn-color-fitted-level-0);\n",
       "}\n",
       "\n",
       "#sk-container-id-1 input.sk-toggleable__control:checked~div.sk-toggleable__content {\n",
       "  /* Expand drop-down */\n",
       "  max-height: 200px;\n",
       "  max-width: 100%;\n",
       "  overflow: auto;\n",
       "}\n",
       "\n",
       "#sk-container-id-1 input.sk-toggleable__control:checked~label.sk-toggleable__label-arrow:before {\n",
       "  content: \"▾\";\n",
       "}\n",
       "\n",
       "/* Pipeline/ColumnTransformer-specific style */\n",
       "\n",
       "#sk-container-id-1 div.sk-label input.sk-toggleable__control:checked~label.sk-toggleable__label {\n",
       "  color: var(--sklearn-color-text);\n",
       "  background-color: var(--sklearn-color-unfitted-level-2);\n",
       "}\n",
       "\n",
       "#sk-container-id-1 div.sk-label.fitted input.sk-toggleable__control:checked~label.sk-toggleable__label {\n",
       "  background-color: var(--sklearn-color-fitted-level-2);\n",
       "}\n",
       "\n",
       "/* Estimator-specific style */\n",
       "\n",
       "/* Colorize estimator box */\n",
       "#sk-container-id-1 div.sk-estimator input.sk-toggleable__control:checked~label.sk-toggleable__label {\n",
       "  /* unfitted */\n",
       "  background-color: var(--sklearn-color-unfitted-level-2);\n",
       "}\n",
       "\n",
       "#sk-container-id-1 div.sk-estimator.fitted input.sk-toggleable__control:checked~label.sk-toggleable__label {\n",
       "  /* fitted */\n",
       "  background-color: var(--sklearn-color-fitted-level-2);\n",
       "}\n",
       "\n",
       "#sk-container-id-1 div.sk-label label.sk-toggleable__label,\n",
       "#sk-container-id-1 div.sk-label label {\n",
       "  /* The background is the default theme color */\n",
       "  color: var(--sklearn-color-text-on-default-background);\n",
       "}\n",
       "\n",
       "/* On hover, darken the color of the background */\n",
       "#sk-container-id-1 div.sk-label:hover label.sk-toggleable__label {\n",
       "  color: var(--sklearn-color-text);\n",
       "  background-color: var(--sklearn-color-unfitted-level-2);\n",
       "}\n",
       "\n",
       "/* Label box, darken color on hover, fitted */\n",
       "#sk-container-id-1 div.sk-label.fitted:hover label.sk-toggleable__label.fitted {\n",
       "  color: var(--sklearn-color-text);\n",
       "  background-color: var(--sklearn-color-fitted-level-2);\n",
       "}\n",
       "\n",
       "/* Estimator label */\n",
       "\n",
       "#sk-container-id-1 div.sk-label label {\n",
       "  font-family: monospace;\n",
       "  font-weight: bold;\n",
       "  display: inline-block;\n",
       "  line-height: 1.2em;\n",
       "}\n",
       "\n",
       "#sk-container-id-1 div.sk-label-container {\n",
       "  text-align: center;\n",
       "}\n",
       "\n",
       "/* Estimator-specific */\n",
       "#sk-container-id-1 div.sk-estimator {\n",
       "  font-family: monospace;\n",
       "  border: 1px dotted var(--sklearn-color-border-box);\n",
       "  border-radius: 0.25em;\n",
       "  box-sizing: border-box;\n",
       "  margin-bottom: 0.5em;\n",
       "  /* unfitted */\n",
       "  background-color: var(--sklearn-color-unfitted-level-0);\n",
       "}\n",
       "\n",
       "#sk-container-id-1 div.sk-estimator.fitted {\n",
       "  /* fitted */\n",
       "  background-color: var(--sklearn-color-fitted-level-0);\n",
       "}\n",
       "\n",
       "/* on hover */\n",
       "#sk-container-id-1 div.sk-estimator:hover {\n",
       "  /* unfitted */\n",
       "  background-color: var(--sklearn-color-unfitted-level-2);\n",
       "}\n",
       "\n",
       "#sk-container-id-1 div.sk-estimator.fitted:hover {\n",
       "  /* fitted */\n",
       "  background-color: var(--sklearn-color-fitted-level-2);\n",
       "}\n",
       "\n",
       "/* Specification for estimator info (e.g. \"i\" and \"?\") */\n",
       "\n",
       "/* Common style for \"i\" and \"?\" */\n",
       "\n",
       ".sk-estimator-doc-link,\n",
       "a:link.sk-estimator-doc-link,\n",
       "a:visited.sk-estimator-doc-link {\n",
       "  float: right;\n",
       "  font-size: smaller;\n",
       "  line-height: 1em;\n",
       "  font-family: monospace;\n",
       "  background-color: var(--sklearn-color-background);\n",
       "  border-radius: 1em;\n",
       "  height: 1em;\n",
       "  width: 1em;\n",
       "  text-decoration: none !important;\n",
       "  margin-left: 0.5em;\n",
       "  text-align: center;\n",
       "  /* unfitted */\n",
       "  border: var(--sklearn-color-unfitted-level-1) 1pt solid;\n",
       "  color: var(--sklearn-color-unfitted-level-1);\n",
       "}\n",
       "\n",
       ".sk-estimator-doc-link.fitted,\n",
       "a:link.sk-estimator-doc-link.fitted,\n",
       "a:visited.sk-estimator-doc-link.fitted {\n",
       "  /* fitted */\n",
       "  border: var(--sklearn-color-fitted-level-1) 1pt solid;\n",
       "  color: var(--sklearn-color-fitted-level-1);\n",
       "}\n",
       "\n",
       "/* On hover */\n",
       "div.sk-estimator:hover .sk-estimator-doc-link:hover,\n",
       ".sk-estimator-doc-link:hover,\n",
       "div.sk-label-container:hover .sk-estimator-doc-link:hover,\n",
       ".sk-estimator-doc-link:hover {\n",
       "  /* unfitted */\n",
       "  background-color: var(--sklearn-color-unfitted-level-3);\n",
       "  color: var(--sklearn-color-background);\n",
       "  text-decoration: none;\n",
       "}\n",
       "\n",
       "div.sk-estimator.fitted:hover .sk-estimator-doc-link.fitted:hover,\n",
       ".sk-estimator-doc-link.fitted:hover,\n",
       "div.sk-label-container:hover .sk-estimator-doc-link.fitted:hover,\n",
       ".sk-estimator-doc-link.fitted:hover {\n",
       "  /* fitted */\n",
       "  background-color: var(--sklearn-color-fitted-level-3);\n",
       "  color: var(--sklearn-color-background);\n",
       "  text-decoration: none;\n",
       "}\n",
       "\n",
       "/* Span, style for the box shown on hovering the info icon */\n",
       ".sk-estimator-doc-link span {\n",
       "  display: none;\n",
       "  z-index: 9999;\n",
       "  position: relative;\n",
       "  font-weight: normal;\n",
       "  right: .2ex;\n",
       "  padding: .5ex;\n",
       "  margin: .5ex;\n",
       "  width: min-content;\n",
       "  min-width: 20ex;\n",
       "  max-width: 50ex;\n",
       "  color: var(--sklearn-color-text);\n",
       "  box-shadow: 2pt 2pt 4pt #999;\n",
       "  /* unfitted */\n",
       "  background: var(--sklearn-color-unfitted-level-0);\n",
       "  border: .5pt solid var(--sklearn-color-unfitted-level-3);\n",
       "}\n",
       "\n",
       ".sk-estimator-doc-link.fitted span {\n",
       "  /* fitted */\n",
       "  background: var(--sklearn-color-fitted-level-0);\n",
       "  border: var(--sklearn-color-fitted-level-3);\n",
       "}\n",
       "\n",
       ".sk-estimator-doc-link:hover span {\n",
       "  display: block;\n",
       "}\n",
       "\n",
       "/* \"?\"-specific style due to the `<a>` HTML tag */\n",
       "\n",
       "#sk-container-id-1 a.estimator_doc_link {\n",
       "  float: right;\n",
       "  font-size: 1rem;\n",
       "  line-height: 1em;\n",
       "  font-family: monospace;\n",
       "  background-color: var(--sklearn-color-background);\n",
       "  border-radius: 1rem;\n",
       "  height: 1rem;\n",
       "  width: 1rem;\n",
       "  text-decoration: none;\n",
       "  /* unfitted */\n",
       "  color: var(--sklearn-color-unfitted-level-1);\n",
       "  border: var(--sklearn-color-unfitted-level-1) 1pt solid;\n",
       "}\n",
       "\n",
       "#sk-container-id-1 a.estimator_doc_link.fitted {\n",
       "  /* fitted */\n",
       "  border: var(--sklearn-color-fitted-level-1) 1pt solid;\n",
       "  color: var(--sklearn-color-fitted-level-1);\n",
       "}\n",
       "\n",
       "/* On hover */\n",
       "#sk-container-id-1 a.estimator_doc_link:hover {\n",
       "  /* unfitted */\n",
       "  background-color: var(--sklearn-color-unfitted-level-3);\n",
       "  color: var(--sklearn-color-background);\n",
       "  text-decoration: none;\n",
       "}\n",
       "\n",
       "#sk-container-id-1 a.estimator_doc_link.fitted:hover {\n",
       "  /* fitted */\n",
       "  background-color: var(--sklearn-color-fitted-level-3);\n",
       "}\n",
       "</style><div id=\"sk-container-id-1\" class=\"sk-top-container\"><div class=\"sk-text-repr-fallback\"><pre>RandomForestRegressor(n_jobs=-1, random_state=0)</pre><b>In a Jupyter environment, please rerun this cell to show the HTML representation or trust the notebook. <br />On GitHub, the HTML representation is unable to render, please try loading this page with nbviewer.org.</b></div><div class=\"sk-container\" hidden><div class=\"sk-item\"><div class=\"sk-estimator fitted sk-toggleable\"><input class=\"sk-toggleable__control sk-hidden--visually\" id=\"sk-estimator-id-1\" type=\"checkbox\" checked><label for=\"sk-estimator-id-1\" class=\"sk-toggleable__label fitted sk-toggleable__label-arrow\"><div><div>RandomForestRegressor</div></div><div><a class=\"sk-estimator-doc-link fitted\" rel=\"noreferrer\" target=\"_blank\" href=\"https://scikit-learn.org/1.6/modules/generated/sklearn.ensemble.RandomForestRegressor.html\">?<span>Documentation for RandomForestRegressor</span></a><span class=\"sk-estimator-doc-link fitted\">i<span>Fitted</span></span></div></label><div class=\"sk-toggleable__content fitted\"><pre>RandomForestRegressor(n_jobs=-1, random_state=0)</pre></div> </div></div></div></div>"
      ],
      "text/plain": [
       "RandomForestRegressor(n_jobs=-1, random_state=0)"
      ]
     },
     "execution_count": 9,
     "metadata": {},
     "output_type": "execute_result"
    }
   ],
   "source": [
    "reg = RandomForestRegressor(random_state=0,n_jobs=-1)\n",
    "reg.fit(train_x,train_y)"
   ]
  },
  {
   "cell_type": "code",
   "execution_count": 10,
   "metadata": {},
   "outputs": [
    {
     "data": {
      "text/plain": [
       "독특하다             0.117350\n",
       "깔끔하다             0.040489\n",
       "실용적이다            0.026553\n",
       "col1_30대         0.023268\n",
       "col1_20대         0.022865\n",
       "트렌디하다            0.022454\n",
       "활동적이다            0.022421\n",
       "무난하다             0.021904\n",
       "col1_40대         0.021363\n",
       "편안하다             0.021287\n",
       "세련되다             0.021219\n",
       "도시적이다            0.021113\n",
       "발랄하다             0.020726\n",
       "col2_summer      0.019403\n",
       "여성적이다            0.018959\n",
       "멋있다              0.018670\n",
       "부드럽다             0.018660\n",
       "col5_normcore    0.018266\n",
       "col7_봄/가을        0.017830\n",
       "col4_triangle    0.017278\n",
       "dtype: float64"
      ]
     },
     "execution_count": 10,
     "metadata": {},
     "output_type": "execute_result"
    }
   ],
   "source": [
    "ftr_importances_values = reg.feature_importances_\n",
    "ftr_importances = pd.Series(ftr_importances_values, index=train_x.columns)\n",
    "ftr_top = ftr_importances.sort_values(ascending=False)[:20]\n",
    "\n",
    "ftr_top"
   ]
  },
  {
   "cell_type": "code",
   "execution_count": 11,
   "metadata": {},
   "outputs": [
    {
     "name": "stdout",
     "output_type": "stream",
     "text": [
      "RMSE:0.3136099496099953\n"
     ]
    }
   ],
   "source": [
    "import math\n",
    "from sklearn.metrics import mean_squared_error\n",
    "train_predict = reg.predict(train_x)\n",
    "print(\"RMSE:{}\".format(math.sqrt(mean_squared_error(train_predict, train_y))) )"
   ]
  },
  {
   "cell_type": "code",
   "execution_count": 12,
   "metadata": {},
   "outputs": [
    {
     "name": "stdout",
     "output_type": "stream",
     "text": [
      "RMSE':0.7729973117505007\n"
     ]
    }
   ],
   "source": [
    "test_predict = reg.predict(test_x)\n",
    "print(\"RMSE':{}\".format(math.sqrt(mean_squared_error(test_predict, test_y))) )"
   ]
  },
  {
   "cell_type": "code",
   "execution_count": 13,
   "metadata": {},
   "outputs": [],
   "source": [
    "from sklearn.metrics import classification_report\n",
    "def map_to_binary(value):\n",
    "    if value<3.0:\n",
    "        return 0\n",
    "    return 1\n",
    "\n",
    "train_predict_binary = np.vectorize(map_to_binary)(train_predict)\n",
    "train_y_binary = np.vectorize(map_to_binary)(train_y)\n",
    "test_predict_binary = np.vectorize(map_to_binary)(test_predict)\n",
    "test_y_binary = np.vectorize(map_to_binary)(test_y)\n"
   ]
  },
  {
   "cell_type": "code",
   "execution_count": 42,
   "metadata": {},
   "outputs": [
    {
     "name": "stdout",
     "output_type": "stream",
     "text": [
      "              precision    recall  f1-score   support\n",
      "\n",
      "           0       0.58      1.00      0.73      7516\n",
      "           1       1.00      0.46      0.63     10027\n",
      "\n",
      "    accuracy                           0.69     17543\n",
      "   macro avg       0.79      0.73      0.68     17543\n",
      "weighted avg       0.82      0.69      0.67     17543\n",
      "\n"
     ]
    }
   ],
   "source": [
    "print(classification_report(train_y_binary,train_predict_binary))"
   ]
  },
  {
   "cell_type": "code",
   "execution_count": 43,
   "metadata": {},
   "outputs": [
    {
     "name": "stdout",
     "output_type": "stream",
     "text": [
      "              precision    recall  f1-score   support\n",
      "\n",
      "           0       0.49      0.93      0.65      1033\n",
      "           1       0.86      0.30      0.44      1405\n",
      "\n",
      "    accuracy                           0.57      2438\n",
      "   macro avg       0.67      0.61      0.54      2438\n",
      "weighted avg       0.70      0.57      0.53      2438\n",
      "\n"
     ]
    }
   ],
   "source": [
    "print(classification_report(test_y_binary,test_predict_binary))"
   ]
  },
  {
   "cell_type": "code",
   "execution_count": 18,
   "metadata": {},
   "outputs": [],
   "source": [
    "def precision_at_k(rating_,predict_value,k):\n",
    "    rating_df = pd.read_csv(rating_)\n",
    "    predict_df = pd.DataFrame({'예측': predict_value})\n",
    "    rating_df = pd.concat([rating_df,predict_df],axis=1)\n",
    "\n",
    "    precisions = []\n",
    "\n",
    "    for user in rating_df['R_id'].unique():\n",
    "        if len(rating_df[rating_df['R_id']==user])>=2:\n",
    "            pred = rating_df.loc[rating_df['R_id'] == user,['image','선호여부','예측']].sort_values(by='예측',ascending=False).reset_index(drop=True)\n",
    "            pred_k = pred.head(k)\n",
    "            precision = len(pred_k.loc[pred_k['선호여부']>=3.0]) / float(k)\n",
    "            precisions.append(precision)\n",
    "                \n",
    "    return sum(precisions) / len(precisions)\n",
    "\n",
    "\n",
    "def recall_at_k(rating_,predict_value,k):\n",
    "    rating_df = pd.read_csv(rating_)\n",
    "    \n",
    "    predict_df = pd.DataFrame({'예측': predict_value})\n",
    " \n",
    "    rating_df = pd.concat([rating_df,predict_df],axis=1)\n",
    "    recalls = []\n",
    "\n",
    "  \n",
    "    for user in rating_df['R_id'].unique():\n",
    "        if len(rating_df[rating_df['R_id']==user])>=2:\n",
    "            pred = rating_df.loc[rating_df['R_id']==user,['image','선호여부','예측']].sort_values(by='예측',ascending=False).reset_index(drop=True)\n",
    "            pred_k = pred.head(k)\n",
    "            recall = len(pred_k.loc[pred_k['선호여부']>=3.0]) / len(pred.loc[pred['선호여부']>=3.0]) if len(pred.loc[pred['선호여부']>=3.0])>0 else 0\n",
    "            recalls.append(recall)\n",
    "\n",
    "    return sum(recalls) / len(recalls)"
   ]
  },
  {
   "cell_type": "code",
   "execution_count": 15,
   "metadata": {},
   "outputs": [
    {
     "name": "stdout",
     "output_type": "stream",
     "text": [
      "precision@10 of train:  0.35128295254833036\n",
      "recall@10 of train:  0.9491799188385999\n"
     ]
    }
   ],
   "source": [
    "k=10\n",
    "print(f\"precision@{k} of train: \",precision_at_k('../preprocessed/TL_woman_rating_2019.csv',train_predict,k))\n",
    "print(f\"recall@10 of train: \",recall_at_k('../preprocessed/TL_woman_rating_2019.csv',train_predict,k))"
   ]
  },
  {
   "cell_type": "code",
   "execution_count": 46,
   "metadata": {},
   "outputs": [
    {
     "name": "stdout",
     "output_type": "stream",
     "text": [
      "precision@10 of test:  0.13938356164383595\n",
      "recall@10 of test:  0.839041095890411\n"
     ]
    }
   ],
   "source": [
    "\n",
    "print(f\"precision@{k} of test: \",precision_at_k('../preprocessed/VL_woman_rating_2019.csv',test_predict,k))\n",
    "print(f\"recall@{k} of test: \",recall_at_k('../preprocessed/VL_woman_rating_2019.csv',test_predict,k))"
   ]
  },
  {
   "cell_type": "code",
   "execution_count": 19,
   "metadata": {},
   "outputs": [],
   "source": [
    "pre_train=[0]*11\n",
    "rec_train=[0]*11\n",
    "pre_test=[0]*11\n",
    "rec_test=[0]*11\n",
    "for i in range(1,12):\n",
    "    pre_train[i-1] = precision_at_k('../preprocessed/TL_woman_rating_2019.csv',train_predict,i)\n",
    "    rec_train[i-1]=recall_at_k('../preprocessed/TL_woman_rating_2019.csv',train_predict,i)\n",
    "    pre_test[i-1]=precision_at_k('../preprocessed/VL_woman_rating_2019.csv',test_predict,i)\n",
    "    rec_test[i-1]=recall_at_k('../preprocessed/VL_woman_rating_2019.csv',test_predict,i)"
   ]
  },
  {
   "cell_type": "code",
   "execution_count": 20,
   "metadata": {},
   "outputs": [
    {
     "name": "stdout",
     "output_type": "stream",
     "text": [
      "precision@1 of train: 0.9472759226713533\n",
      "recall@1 of train: 0.34020225491320155\n",
      "precision@1 of test: 0.7294520547945206\n",
      "recall@1 of test: 0.49472031963470325\n",
      "precision@2 of train: 0.901054481546573\n",
      "recall@2 of train: 0.5888989445071272\n",
      "precision@2 of test: 0.6164383561643836\n",
      "recall@2 of test: 0.7742579908675804\n",
      "precision@3 of train: 0.8345635618043347\n",
      "recall@3 of train: 0.7612043042826439\n",
      "precision@3 of test: 0.4514840182648407\n",
      "recall@3 of test: 0.8263413242009133\n",
      "precision@4 of train: 0.7494727592267135\n",
      "recall@4 of train: 0.8638845908302938\n",
      "precision@4 of test: 0.3467465753424658\n",
      "recall@4 of test: 0.8371860730593608\n",
      "precision@5 of train: 0.6604569420035116\n",
      "recall@5 of train: 0.9188320127030715\n",
      "precision@5 of test: 0.2787671232876719\n",
      "recall@5 of test: 0.839041095890411\n",
      "precision@6 of train: 0.5735207967193892\n",
      "recall@6 of train: 0.9404988253198401\n",
      "precision@6 of test: 0.2323059360730597\n",
      "recall@6 of test: 0.839041095890411\n",
      "precision@7 of train: 0.4981672106452401\n",
      "recall@7 of train: 0.9466764756636185\n",
      "precision@7 of test: 0.19911937377690825\n",
      "recall@7 of test: 0.839041095890411\n",
      "precision@8 of train: 0.437609841827768\n",
      "recall@8 of train: 0.9481976694001482\n",
      "precision@8 of test: 0.1742294520547945\n",
      "recall@8 of test: 0.839041095890411\n",
      "precision@9 of train: 0.3895723491505521\n",
      "recall@9 of train: 0.9486643815901052\n",
      "precision@9 of test: 0.15487062404870727\n",
      "recall@9 of test: 0.839041095890411\n",
      "precision@10 of train: 0.35100175746924417\n",
      "recall@10 of train: 0.9489748742916815\n",
      "precision@10 of test: 0.13938356164383595\n",
      "recall@10 of test: 0.839041095890411\n",
      "precision@11 of train: 0.31934813868029693\n",
      "recall@11 of train: 0.9491799188385999\n",
      "precision@11 of test: 0.1267123287671239\n",
      "recall@11 of test: 0.839041095890411\n"
     ]
    }
   ],
   "source": [
    "for i in range(1,12):\n",
    "    print(f\"precision@{i} of train: {pre_train[i-1]}\")\n",
    "    print(f\"recall@{i} of train: {rec_train[i-1]}\")\n",
    "    print(f\"precision@{i} of test: {pre_test[i-1]}\")\n",
    "    print(f\"recall@{i} of test: {rec_test[i-1]}\")"
   ]
  },
  {
   "cell_type": "code",
   "execution_count": 21,
   "metadata": {},
   "outputs": [
    {
     "data": {
      "image/png": "[encoded data removed]",
      "text/plain": [
       "<Figure size 640x480 with 1 Axes>"
      ]
     },
     "metadata": {},
     "output_type": "display_data"
    }
   ],
   "source": [
    "import matplotlib.pyplot as plt\n",
    "\n",
    "plt.plot(rec_train,pre_train,\"o--\")\n",
    "plt.title(\"Precision-Recall Curve of Woman Train Data(rate threshold=3.0)\")\n",
    "plt.xlabel(\"Recall\")\n",
    "plt.ylabel(\"Precision\")\n",
    "plt.grid()\n",
    "plt.show()\n"
   ]
  },
  {
   "cell_type": "code",
   "execution_count": 22,
   "metadata": {},
   "outputs": [
    {
     "data": {
      "image/png": "[encoded data removed]",
      "text/plain": [
       "<Figure size 640x480 with 1 Axes>"
      ]
     },
     "metadata": {},
     "output_type": "display_data"
    }
   ],
   "source": [
    "plt.plot(rec_test,pre_test,\"o--\",color='orange')\n",
    "plt.title(\"Precision-Recall Curve of Woman Test Data (rate threshold=3.0)\")\n",
    "plt.xlabel(\"Recall\")\n",
    "plt.ylabel(\"Precision\")\n",
    "plt.grid()\n",
    "plt.show()"
   ]
  },
  {
   "cell_type": "code",
   "execution_count": 23,
   "metadata": {},
   "outputs": [],
   "source": [
    "def precision_at_k_by_personal(rating_,user_,predict_value,k):\n",
    "    rating_df = pd.read_csv(rating_)\n",
    "    user_df = pd.read_csv(user_)\n",
    "    predict_df = pd.DataFrame({'예측': predict_value})\n",
    "    rating_df = rating_df.merge(user_df,how='inner',on='R_id')\n",
    "    rating_df = pd.concat([rating_df,predict_df],axis=1)\n",
    "\n",
    "    precisions = []\n",
    "\n",
    "    for color in rating_df['personal_color'].unique():\n",
    "        for face in rating_df['faceshape'].unique():\n",
    "            for body in rating_df['bodyshape'].unique():\n",
    "\n",
    "                pred = rating_df.loc[(rating_df['personal_color']==color) & (rating_df['faceshape']==face) & (rating_df['bodyshape']==body),['image','선호여부','예측']].sort_values(by='예측',ascending=False).reset_index(drop=True)\n",
    "                pred_k =pred.head(k)\n",
    "                if len(pred_k)>0:\n",
    "                    precision = len(pred_k.loc[pred_k['선호여부']>=3.0]) / float(k)\n",
    "                    precisions.append(precision)\n",
    "\n",
    "    return sum(precisions) / len(precisions)\n",
    "\n",
    "\n",
    "def recall_at_k_by_personal(rating_,user_,predict_value,k):\n",
    "    rating_df = pd.read_csv(rating_)\n",
    "    user_df = pd.read_csv(user_)\n",
    "    predict_df = pd.DataFrame({'예측': predict_value})\n",
    "    rating_df = rating_df.merge(user_df,how='inner',on='R_id')\n",
    "    rating_df = pd.concat([rating_df,predict_df],axis=1)\n",
    "    recalls = []\n",
    "\n",
    "    for color in rating_df['personal_color'].unique():\n",
    "        for face in rating_df['faceshape'].unique():\n",
    "            for body in rating_df['bodyshape'].unique():\n",
    "\n",
    "                pred = rating_df.loc[(rating_df['personal_color']==color) & (rating_df['faceshape']==face) & (rating_df['bodyshape']==body),['image','선호여부','예측']].sort_values(by='예측',ascending=False).reset_index(drop=True)\n",
    "                pred_k = pred.head(k)\n",
    "                if len(pred_k)>0:\n",
    "                    recall = len(pred_k.loc[pred_k['선호여부']>=3.0]) / len(pred.loc[pred['선호여부']>=3.0]) if len(pred.loc[pred['선호여부']>=3.0])>0 else 0\n",
    "                    recalls.append(recall)\n",
    "\n",
    "    return sum(recalls) / len(recalls)"
   ]
  },
  {
   "cell_type": "code",
   "execution_count": 48,
   "metadata": {},
   "outputs": [
    {
     "name": "stdout",
     "output_type": "stream",
     "text": [
      "precision@10 of train 0.9510204081632654\n",
      "recall@10 of train 0.33362503972571933\n"
     ]
    }
   ],
   "source": [
    "k=10\n",
    "print(f\"precision@{k} of train\" , precision_at_k_by_personal('../preprocessed/TL_woman_rating_2019.csv','../preprocessed/TL_woman_user_2019.csv',train_predict,k))\n",
    "print(f\"recall@{k} of train\" , recall_at_k_by_personal('../preprocessed/TL_woman_rating_2019.csv','../preprocessed/TL_woman_user_2019.csv',train_predict,k))"
   ]
  },
  {
   "cell_type": "code",
   "execution_count": 49,
   "metadata": {},
   "outputs": [
    {
     "name": "stdout",
     "output_type": "stream",
     "text": [
      "precision@10 of test:  0.6069767441860466\n",
      "recall@10 of test:  0.6221385899471726\n"
     ]
    }
   ],
   "source": [
    "print(f\"precision@{k} of test: \",precision_at_k_by_personal('../preprocessed/VL_woman_rating_2019.csv','../preprocessed/VL_woman_user_2019.csv',test_predict,k))\n",
    "print(f\"recall@{k} of test: \",recall_at_k_by_personal('../preprocessed/VL_woman_rating_2019.csv','../preprocessed/VL_woman_user_2019.csv',test_predict,k))"
   ]
  },
  {
   "cell_type": "code",
   "execution_count": 24,
   "metadata": {},
   "outputs": [],
   "source": [
    "pre_train_per=[0]*11\n",
    "rec_train_per=[0]*11\n",
    "pre_test_per=[0]*11\n",
    "rec_test_per=[0]*11\n",
    "for i in range(1,12):\n",
    "    pre_train_per[i-1] = precision_at_k_by_personal('../preprocessed/TL_woman_rating_2019.csv','../preprocessed/TL_woman_user_2019.csv',train_predict,i)\n",
    "    rec_train_per[i-1]=recall_at_k_by_personal('../preprocessed/TL_woman_rating_2019.csv','../preprocessed/TL_woman_user_2019.csv',train_predict,i)\n",
    "    pre_test_per[i-1]=precision_at_k_by_personal('../preprocessed/VL_woman_rating_2019.csv','../preprocessed/VL_woman_user_2019.csv',test_predict,i)\n",
    "    rec_test_per[i-1]=recall_at_k_by_personal('../preprocessed/VL_woman_rating_2019.csv','../preprocessed/VL_woman_user_2019.csv',test_predict,i)"
   ]
  },
  {
   "cell_type": "code",
   "execution_count": 25,
   "metadata": {},
   "outputs": [
    {
     "name": "stdout",
     "output_type": "stream",
     "text": [
      "precision@1 of train: 1.0\n",
      "recall@1 of train: 0.045858454733828796\n",
      "precision@1 of test: 0.9069767441860465\n",
      "recall@1 of test: 0.1658705055188001\n",
      "precision@2 of train: 1.0\n",
      "recall@2 of train: 0.09171690946765759\n",
      "precision@2 of test: 0.8372093023255814\n",
      "recall@2 of test: 0.27569019277747964\n",
      "precision@3 of train: 1.0\n",
      "recall@3 of train: 0.13757536420148642\n",
      "precision@3 of test: 0.7984496124031009\n",
      "recall@3 of test: 0.35346853636690845\n",
      "precision@4 of train: 0.9897959183673469\n",
      "recall@4 of train: 0.16982837675844445\n",
      "precision@4 of test: 0.7441860465116279\n",
      "recall@4 of test: 0.40012754709281845\n",
      "precision@5 of train: 0.9836734693877551\n",
      "recall@5 of train: 0.20208138931540254\n",
      "precision@5 of test: 0.7488372093023257\n",
      "recall@5 of test: 0.46996015424813886\n",
      "precision@6 of train: 0.9795918367346939\n",
      "recall@6 of train: 0.2343344018723606\n",
      "precision@6 of test: 0.7248062015503876\n",
      "recall@6 of test: 0.5204510002421763\n",
      "precision@7 of train: 0.9737609329446064\n",
      "recall@7 of train: 0.26318605388510097\n",
      "precision@7 of test: 0.6910299003322259\n",
      "recall@7 of test: 0.5556560724245428\n",
      "precision@8 of train: 0.9668367346938775\n",
      "recall@8 of train: 0.2891222540027976\n",
      "precision@8 of test: 0.6540697674418605\n",
      "recall@8 of test: 0.5777096965717408\n",
      "precision@9 of train: 0.9591836734693879\n",
      "recall@9 of train: 0.3125074337123309\n",
      "precision@9 of test: 0.6330749354005168\n",
      "recall@9 of test: 0.6051753672959836\n",
      "precision@10 of train: 0.9510204081632654\n",
      "recall@10 of train: 0.33362503972571933\n",
      "precision@10 of test: 0.6069767441860466\n",
      "recall@10 of test: 0.6221385899471726\n",
      "precision@11 of train: 0.9424860853432282\n",
      "recall@11 of train: 0.3527018294125768\n",
      "precision@11 of test: 0.5835095137420718\n",
      "recall@11 of test: 0.6387316707290581\n"
     ]
    }
   ],
   "source": [
    "for i in range(1,12):\n",
    "    print(f\"precision@{i} of train: {pre_train_per[i-1]}\")\n",
    "    print(f\"recall@{i} of train: {rec_train_per[i-1]}\")\n",
    "    print(f\"precision@{i} of test: {pre_test_per[i-1]}\")\n",
    "    print(f\"recall@{i} of test: {rec_test_per[i-1]}\")"
   ]
  },
  {
   "cell_type": "code",
   "execution_count": 26,
   "metadata": {},
   "outputs": [
    {
     "data": {
      "image/png": "[encoded data removed]",
      "text/plain": [
       "<Figure size 640x480 with 1 Axes>"
      ]
     },
     "metadata": {},
     "output_type": "display_data"
    }
   ],
   "source": [
    "plt.plot(rec_train_per,pre_train_per,\"o--\")\n",
    "plt.title(\"Precision-Recall Curve of Woman Train Data(rate threshold=3.0)(by personal characteristics)\")\n",
    "plt.xlabel(\"Recall\")\n",
    "plt.ylabel(\"Precision\")\n",
    "plt.grid()\n",
    "plt.show()"
   ]
  },
  {
   "cell_type": "code",
   "execution_count": 27,
   "metadata": {},
   "outputs": [
    {
     "data": {
      "image/png": "[encoded data removed]",
      "text/plain": [
       "<Figure size 640x480 with 1 Axes>"
      ]
     },
     "metadata": {},
     "output_type": "display_data"
    }
   ],
   "source": [
    "plt.plot(rec_test_per,pre_test_per,\"o--\")\n",
    "plt.title(\"Precision-Recall Curve of Woman Test Data(rate threshold=3.0)(by personal characteristics)\")\n",
    "plt.xlabel(\"Recall\")\n",
    "plt.ylabel(\"Precision\")\n",
    "plt.grid()\n",
    "plt.show()"
   ]
  },
  {
   "cell_type": "code",
   "execution_count": 28,
   "metadata": {},
   "outputs": [
    {
     "data": {
      "image/png": "[encoded data removed]",
      "text/plain": [
       "<Figure size 640x480 with 1 Axes>"
      ]
     },
     "metadata": {},
     "output_type": "display_data"
    }
   ],
   "source": [
    "plt.plot(rec_train,pre_train,\"o--\",label='Train Data')\n",
    "plt.plot(rec_test,pre_test,\"o--\",color='orange',label='Test Data')\n",
    "plt.title(\"Precision-Recall Curve of Woman Data(rate threshold=3.0)\")\n",
    "plt.xlabel(\"Recall\")\n",
    "plt.ylabel(\"Precision\")\n",
    "plt.grid()\n",
    "plt.show()"
   ]
  },
  {
   "cell_type": "code",
   "execution_count": 50,
   "metadata": {},
   "outputs": [],
   "source": [
    "def recommend_internal(clothes_path,encoder_path,gender,age,color,face,body):\n",
    "    \n",
    "    df_user=pd.DataFrame.from_dict({'r_gender':[gender],'age':[age],'personal_color':[color],'faceshape':[face],'bodyshape':[body]})\n",
    "    df_clothes = pd.read_csv(clothes_path)\n",
    "    df = pd.concat([df_user,df_clothes],axis=1)\n",
    "    df = df.ffill()\n",
    "    df_clothes_name = df['image']\n",
    "    df = df.drop(columns=['image'])\n",
    "\n",
    "    encoder = ''\n",
    "    with open(encoder_path,'rb') as f:\n",
    "        encoder = pickle.load(f)\n",
    "    df_encoded = encoder.transform(df.loc[:,'r_gender':'분위기'])\n",
    "    df_encoded = pd.DataFrame(df_encoded,columns= [f\"col{i}_{elem}\" for i,sublist in enumerate(encoder.categories_) for elem in sublist])\n",
    "    df_test = pd.concat([df_encoded,df.loc[:,'멋있다':].astype(np.int8)],axis=1)\n",
    "\n",
    "    predict = reg.predict(df_test)\n",
    "    rating = pd.DataFrame.from_dict({'rating':predict})\n",
    "    return pd.concat([df_clothes_name,rating],axis=1).sort_values(by=['rating'], axis=0, ascending=False)"
   ]
  },
  {
   "cell_type": "code",
   "execution_count": 51,
   "metadata": {},
   "outputs": [
    {
     "data": {
      "text/plain": [
       "count\n",
       "6     816\n",
       "7     712\n",
       "5     469\n",
       "8     359\n",
       "4     278\n",
       "3     128\n",
       "2      38\n",
       "1      14\n",
       "16     13\n",
       "15     10\n",
       "25      4\n",
       "20      4\n",
       "22      3\n",
       "18      2\n",
       "19      2\n",
       "23      2\n",
       "40      2\n",
       "11      1\n",
       "21      1\n",
       "24      1\n",
       "Name: count, dtype: int64"
      ]
     },
     "execution_count": 51,
     "metadata": {},
     "output_type": "execute_result"
    }
   ],
   "source": [
    "#참고\n",
    "pd.read_csv('../preprocessed/TL_woman_rating_2019.csv')['R_id'].value_counts().value_counts()\n",
    "#training data에는 아이디당 5~7개 옷 평가"
   ]
  },
  {
   "cell_type": "code",
   "execution_count": 52,
   "metadata": {},
   "outputs": [
    {
     "data": {
      "text/plain": [
       "count\n",
       "1    1008\n",
       "2     407\n",
       "3     118\n",
       "4      33\n",
       "5      26\n",
       "Name: count, dtype: int64"
      ]
     },
     "execution_count": 52,
     "metadata": {},
     "output_type": "execute_result"
    }
   ],
   "source": [
    "#참고\n",
    "pd.read_csv('../preprocessed/VL_woman_rating_2019.csv')['R_id'].value_counts().value_counts()\n",
    "#training data에는 아이디당 1~2개 옷 평가"
   ]
  },
  {
   "cell_type": "code",
   "execution_count": 53,
   "metadata": {},
   "outputs": [
    {
     "data": {
      "text/html": [
       "<div>\n",
       "<style scoped>\n",
       "    .dataframe tbody tr th:only-of-type {\n",
       "        vertical-align: middle;\n",
       "    }\n",
       "\n",
       "    .dataframe tbody tr th {\n",
       "        vertical-align: top;\n",
       "    }\n",
       "\n",
       "    .dataframe thead th {\n",
       "        text-align: right;\n",
       "    }\n",
       "</style>\n",
       "<table border=\"1\" class=\"dataframe\">\n",
       "  <thead>\n",
       "    <tr style=\"text-align: right;\">\n",
       "      <th></th>\n",
       "      <th>image</th>\n",
       "      <th>rating</th>\n",
       "    </tr>\n",
       "  </thead>\n",
       "  <tbody>\n",
       "    <tr>\n",
       "      <th>4827</th>\n",
       "      <td>W_07708_19_normcore_W.jpg</td>\n",
       "      <td>3.710000</td>\n",
       "    </tr>\n",
       "    <tr>\n",
       "      <th>4615</th>\n",
       "      <td>W_05429_19_normcore_W.jpg</td>\n",
       "      <td>3.710000</td>\n",
       "    </tr>\n",
       "    <tr>\n",
       "      <th>1028</th>\n",
       "      <td>T_06247_19_normcore_W.jpg</td>\n",
       "      <td>3.706667</td>\n",
       "    </tr>\n",
       "    <tr>\n",
       "      <th>1030</th>\n",
       "      <td>T_06252_19_normcore_W.jpg</td>\n",
       "      <td>3.675000</td>\n",
       "    </tr>\n",
       "    <tr>\n",
       "      <th>11928</th>\n",
       "      <td>W_69663_19_normcore_W.jpg</td>\n",
       "      <td>3.656667</td>\n",
       "    </tr>\n",
       "    <tr>\n",
       "      <th>3826</th>\n",
       "      <td>T_14752_19_normcore_W.jpg</td>\n",
       "      <td>3.626667</td>\n",
       "    </tr>\n",
       "    <tr>\n",
       "      <th>3944</th>\n",
       "      <td>T_15674_19_normcore_W.jpg</td>\n",
       "      <td>3.625000</td>\n",
       "    </tr>\n",
       "    <tr>\n",
       "      <th>657</th>\n",
       "      <td>T_05226_19_normcore_W.jpg</td>\n",
       "      <td>3.610000</td>\n",
       "    </tr>\n",
       "    <tr>\n",
       "      <th>7606</th>\n",
       "      <td>W_37378_19_normcore_W.jpg</td>\n",
       "      <td>3.607500</td>\n",
       "    </tr>\n",
       "    <tr>\n",
       "      <th>4531</th>\n",
       "      <td>W_04139_19_normcore_W.jpg</td>\n",
       "      <td>3.606667</td>\n",
       "    </tr>\n",
       "  </tbody>\n",
       "</table>\n",
       "</div>"
      ],
      "text/plain": [
       "                           image    rating\n",
       "4827   W_07708_19_normcore_W.jpg  3.710000\n",
       "4615   W_05429_19_normcore_W.jpg  3.710000\n",
       "1028   T_06247_19_normcore_W.jpg  3.706667\n",
       "1030   T_06252_19_normcore_W.jpg  3.675000\n",
       "11928  W_69663_19_normcore_W.jpg  3.656667\n",
       "3826   T_14752_19_normcore_W.jpg  3.626667\n",
       "3944   T_15674_19_normcore_W.jpg  3.625000\n",
       "657    T_05226_19_normcore_W.jpg  3.610000\n",
       "7606   W_37378_19_normcore_W.jpg  3.607500\n",
       "4531   W_04139_19_normcore_W.jpg  3.606667"
      ]
     },
     "execution_count": 53,
     "metadata": {},
     "output_type": "execute_result"
    }
   ],
   "source": [
    "recommend_internal('../preprocessed/TL_woman_clothes_2019.csv','../encoder/onehot_encoder_woman.pkl','여성','20대','spring','round','round').head(n=10)"
   ]
  },
  {
   "cell_type": "code",
   "execution_count": 54,
   "metadata": {},
   "outputs": [
    {
     "data": {
      "text/html": [
       "<div>\n",
       "<style scoped>\n",
       "    .dataframe tbody tr th:only-of-type {\n",
       "        vertical-align: middle;\n",
       "    }\n",
       "\n",
       "    .dataframe tbody tr th {\n",
       "        vertical-align: top;\n",
       "    }\n",
       "\n",
       "    .dataframe thead th {\n",
       "        text-align: right;\n",
       "    }\n",
       "</style>\n",
       "<table border=\"1\" class=\"dataframe\">\n",
       "  <thead>\n",
       "    <tr style=\"text-align: right;\">\n",
       "      <th></th>\n",
       "      <th>image</th>\n",
       "      <th>rating</th>\n",
       "    </tr>\n",
       "  </thead>\n",
       "  <tbody>\n",
       "    <tr>\n",
       "      <th>4010</th>\n",
       "      <td>T_16402_19_normcore_W.jpg</td>\n",
       "      <td>3.695000</td>\n",
       "    </tr>\n",
       "    <tr>\n",
       "      <th>591</th>\n",
       "      <td>T_05113_19_normcore_W.jpg</td>\n",
       "      <td>3.686667</td>\n",
       "    </tr>\n",
       "    <tr>\n",
       "      <th>2222</th>\n",
       "      <td>T_10262_19_normcore_W.jpg</td>\n",
       "      <td>3.650000</td>\n",
       "    </tr>\n",
       "    <tr>\n",
       "      <th>5068</th>\n",
       "      <td>W_09078_19_normcore_W.jpg</td>\n",
       "      <td>3.600000</td>\n",
       "    </tr>\n",
       "    <tr>\n",
       "      <th>5908</th>\n",
       "      <td>W_20074_19_normcore_W.jpg</td>\n",
       "      <td>3.560000</td>\n",
       "    </tr>\n",
       "    <tr>\n",
       "      <th>3234</th>\n",
       "      <td>T_13333_19_normcore_W.jpg</td>\n",
       "      <td>3.550000</td>\n",
       "    </tr>\n",
       "    <tr>\n",
       "      <th>2500</th>\n",
       "      <td>T_10726_19_normcore_W.jpg</td>\n",
       "      <td>3.540000</td>\n",
       "    </tr>\n",
       "    <tr>\n",
       "      <th>13019</th>\n",
       "      <td>W_92359_19_normcore_W.jpg</td>\n",
       "      <td>3.540000</td>\n",
       "    </tr>\n",
       "    <tr>\n",
       "      <th>3680</th>\n",
       "      <td>T_14527_19_normcore_W.jpg</td>\n",
       "      <td>3.540000</td>\n",
       "    </tr>\n",
       "    <tr>\n",
       "      <th>5433</th>\n",
       "      <td>W_13147_19_normcore_W.jpg</td>\n",
       "      <td>3.530000</td>\n",
       "    </tr>\n",
       "  </tbody>\n",
       "</table>\n",
       "</div>"
      ],
      "text/plain": [
       "                           image    rating\n",
       "4010   T_16402_19_normcore_W.jpg  3.695000\n",
       "591    T_05113_19_normcore_W.jpg  3.686667\n",
       "2222   T_10262_19_normcore_W.jpg  3.650000\n",
       "5068   W_09078_19_normcore_W.jpg  3.600000\n",
       "5908   W_20074_19_normcore_W.jpg  3.560000\n",
       "3234   T_13333_19_normcore_W.jpg  3.550000\n",
       "2500   T_10726_19_normcore_W.jpg  3.540000\n",
       "13019  W_92359_19_normcore_W.jpg  3.540000\n",
       "3680   T_14527_19_normcore_W.jpg  3.540000\n",
       "5433   W_13147_19_normcore_W.jpg  3.530000"
      ]
     },
     "execution_count": 54,
     "metadata": {},
     "output_type": "execute_result"
    }
   ],
   "source": [
    "recommend_internal('../preprocessed/TL_woman_clothes_2019.csv','../encoder/onehot_encoder_woman.pkl','여성','20대','winter','oval','round').head(n=10)"
   ]
  },
  {
   "cell_type": "code",
   "execution_count": 55,
   "metadata": {},
   "outputs": [
    {
     "data": {
      "text/plain": [
       "['../model/random_woman.pkl']"
      ]
     },
     "execution_count": 55,
     "metadata": {},
     "output_type": "execute_result"
    }
   ],
   "source": [
    "import joblib\n",
    "joblib.dump(reg, '../model/random_woman.pkl') "
   ]
  }
 ],
 "metadata": {
  "kernelspec": {
   "display_name": "myenv",
   "language": "python",
   "name": "python3"
  },
  "language_info": {
   "codemirror_mode": {
    "name": "ipython",
    "version": 3
   },
   "file_extension": ".py",
   "mimetype": "text/x-python",
   "name": "python",
   "nbconvert_exporter": "python",
   "pygments_lexer": "ipython3",
   "version": "3.10.0"
  }
 },
 "nbformat": 4,
 "nbformat_minor": 2
}
